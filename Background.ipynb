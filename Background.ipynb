{
 "cells": [
  {
   "cell_type": "markdown",
   "metadata": {},
   "source": [
    "# Background"
   ]
  },
  {
   "cell_type": "markdown",
   "metadata": {},
   "source": [
    "### Opioid Sales in the United States"
   ]
  },
  {
   "cell_type": "markdown",
   "metadata": {},
   "source": [
    "This project is an exploratory data analysis of the DEA's ARCOS database, provided by the Washington Post. This dataset, recently released by federal courts, contains transactions for every single pain pill sold in the United States - by manufacturers and distributors to pharmacies in every town and city - from 2006 to 2012. Our goal is to analyze the sale of these medications in an attempt to make a conclusion about why the opioid epidemic occurred. We will investigate these sales on the national and local levels."
   ]
  },
  {
   "cell_type": "markdown",
   "metadata": {},
   "source": [
    "The use and abuse of prescription opioid drugs for non-medical purposes in the United States and elsewhere has proven to be a problem of epidemic proportions. In the late 1990s, pharmaceutical companies assured the medical community that patients prescribed opioid medications would not become addicted once taking them.<sup>1</sup> Opioids were prescribed much more frequently after this assurance. This had led to a widespread misuse of both prescription and non prescription opioids. The opioid epidemic and the trends of sales of opioid medications have been studied extensively since then. “Studies of drug abuse trends in the USA indicate that non‐medical use of prescription opioids has increased over threefold since 1990 to epidemic proportions.”<sup>2</sup> Opioid addiction and misuse has become more and more widespread since the overprescription began. Walter Ling MD, Director of the UCLA Integrated Substance Abuse Programs, writes that, “an estimated 13.8 million people aged 12 or older had used oxycodone for non‐medical reasons at least once during their lifetime”. Treatment admission for opioid addiction also rose 400 percent from 1998 to 2008.<sup>2</sup> Since then, the TEDS Annual Report of publicly-funded substance use treatment reports that in 2017, 34 percent of the approximately two million admissions aged 12 years and older primarily were opioid abusers.<sup>3</sup> The opioid epidemic has been and continues to affect hundreds of thousands of Americans each year, and was declared a public health emergency in 2017. "
   ]
  },
  {
   "cell_type": "markdown",
   "metadata": {},
   "source": [
    " Ohio is one state heavily affected by the opioid crisis. Analyzing opioid transaction data from Ohio is another focus of this project as it is one of the states most affected by the opioid epidemic in the United States, especially in the northeast Ohio area, making this a relevant issue in our own community. Ohio has the fifth highest rate of drug overdose deaths in the United States (24.6 deaths per 100,000). In Ohio, the leading cause of injury-related death is now unintentional drug overdose. Since the Governor's Cabinet Opiate Action Team was created in 2011, reducing the amount of opioids dispensed to Ohio patients by millions, unintentional drug deaths have slowly decreased. In 2011, 45% of injury-related deaths involving prescription opioids to 22% in 2015.<sup>4</sup> Ohio has been greatly affected in the past by opioids, especially in the year 2009, when the epidemic was at its peak in Ohio. The amount of deaths caused by unintentional overdose of opioids and the amount of Ohio residents addicted to using opioid medications for non medical purposes can be attributed to the overprescription of opioids by pharmaceutical companies to patients who became addicted to these substances."
   ]
  },
  {
   "cell_type": "markdown",
   "metadata": {},
   "source": [
    "In all of the United States, the death rate from drug overdose has risen from 6.0 per 100,000 in 1999 to 13.8 in 2013, almost doubling during this timeframe.<sup>5</sup> This rise is attributed to the increase in misuse and abuse of prescription drugs. Often times, doctors had no way of knowing if a patient had received a prescription for an opiate medication from another doctor before writing a patient a prescription. Often times patients would obtain more opioids by getting a prescription from one doctor, then going to a different prescriber and obtaining more of the drug. A 2013 study of the Prescription Behavior Surveillance System, a public health surveillance system that allows public health authorities to characterize the use and misuse of prescribed controlled substances, gave more insight into how these drugs are misused collecting data from eight states (California, Delaware, Florida, Idaho, Louisiana, Maine, Ohio, and West Virginia). Data was collected on every prescription for a controlled substance.<sup>5</sup> In all eight states studied, opioid medications were prescribed nearly twice as much as stimulants or benzodiazepines. Within these states, rates for opiate prescription were substantially higher for females than males. Most opioids were prescribed to patients either 45-54 years old or 55-64 years old. The amount of instances where the patient retrieved prescriptions from multiple providers is the highest in the state of Ohio. Most opioid prescribing also occurs within a small minority of prescribers.<sup>5</sup>\n"
   ]
  },
  {
   "cell_type": "markdown",
   "metadata": {},
   "source": [
    "Using the ARCOS dataset provided to us by the Washington Post, obtained for the first time by a court order forcing the Drug Enforcement Administration to release their database of 380 million transactions of oxycodone and hydrocodone pills, we hope to gather some further insight into how the opioid epidemic transpired. This database has never been previously available to the public, as it is the result of a year-long legal battle. This database allows us to determine how much oxycodone and hydrocodone pills, accounting for three-quarters of opioid sales to pharmacies, have been distributed to each state. There are more than seventy-six billion total pills sold during the time frame included in the ARCOS database.<sup>6</sup> This is information attempted to be covered up by the pharmaceutical industry and by the government, as we believe by analyzing the data available to us, we will find that the gross overprescription of opioid medications pushed for by pharmaceutical companies is a direct factor in causing so many patients to become addicted to opioid medications, and so many other patients unintentionally overdosing on these pills. We are able to uncover findings such as the areas the epidemic most affected, who is responsible for distributing the medications affecting these areas, when these medications were most prescribed, what kind of opioid medication is being prescribed, and how much is being given out to patients. The epidemic that has affected so many patients in both the United States and elsewhere can be examined using the ARCOS database in a way not previously available to the general public before July 2019, when the database was released. "
   ]
  },
  {
   "cell_type": "markdown",
   "metadata": {},
   "source": [
    "#### Citations"
   ]
  },
  {
   "cell_type": "markdown",
   "metadata": {},
   "source": [
    " <sup>1</sup>U.S. Department of Health and Human Services, *What is the U.S. Opioid Epidemic?*  \n",
    " <sup>2</sup>Walter Ling, Larissa Mooney, and Maureen Hillhouse *Prescription opioid abuse, pain and addiction: Clinical issues and implications*, (Australasian Professional Society on Alcohol and other Drugs, 2011)  \n",
    " <sup>3</sup>Treatment Episode Data Set (TEDS) 2017, *Department of Health and Human Services*, 2017  \n",
    " <sup>4</sup>Jonathan Penm et al, *Strategies and policies to address the opioid epidemic: A case study of Ohio*, (Journal of the American Pharmacists Association, 2017)  \n",
    " <sup>5</sup> Paulozzi, Leonard J., Gail K. Strickler, Peter W. Kreiner, and Caitlin M. Koris. \"Controlled Substance Prescribing Patterns — Prescription Behavior Surveillance System, Eight States, 2013.\" *Morbidity and Mortality Weekly Report: Surveillance Summaries* 64, no. 9 (2015): 1-14.  \n",
    " <sup>6</sup>The Washington Post, *Drilling into the DEA’s pain pill database*, (2019)\n",
    "\n",
    "  \n",
    "\n"
   ]
  }
 ],
 "metadata": {
  "kernelspec": {
   "display_name": "Python 3",
   "language": "python",
   "name": "python3"
  },
  "language_info": {
   "codemirror_mode": {
    "name": "ipython",
    "version": 3
   },
   "file_extension": ".py",
   "mimetype": "text/x-python",
   "name": "python",
   "nbconvert_exporter": "python",
   "pygments_lexer": "ipython3",
   "version": "3.4.3"
  }
 },
 "nbformat": 4,
 "nbformat_minor": 0
}
