{
  "nbformat": 4,
  "nbformat_minor": 0,
  "metadata": {
    "colab": {
      "name": "Methodology",
      "provenance": [],
      "collapsed_sections": []
    },
    "kernelspec": {
      "name": "python3",
      "display_name": "Python 3"
    }
  },
  "cells": [
    {
      "cell_type": "markdown",
      "metadata": {
        "id": "pVucfOyhJHCj",
        "colab_type": "text"
      },
      "source": [
        "### Background"
      ]
    },
    {
      "cell_type": "markdown",
      "metadata": {
        "id": "Ek7lWNU1JQ3J",
        "colab_type": "text"
      },
      "source": [
        "Our dataset contains transaction information on hundreds of thousands of recorded opioid sales in the United States from 2006-2012. Our data comes from the DEA's ARCOS Dataset, which kept record of all opioid transactions to pharmacies in every state for these 6 years. Our dataset does not contain any data on individual buyers, but rather contains data about where the transaction occured, when, what was sold, and how much was sold to each retailer. Combining this data from Arcos with Census data for Ohio counties, such as average age and average income, can give us an idea of what company targeted what area, or what demographic. We can use the data we have available to us to find key characteristics that pharmaceutical companies look for when deciding who to target for opioid sales. Since the opioid epidemic is such a widespread issue throughout the United States even today, this is information the public needs to see and understand. Anyone effected by the opioid epidemic should investigate the full extent of the dangerous overprescription by these companies in both Ohio cities and the United States as a whole. "
      ]
    },
    {
      "cell_type": "markdown",
      "metadata": {
        "id": "3MS-dLxna1PP",
        "colab_type": "text"
      },
      "source": [
        "### Data"
      ]
    },
    {
      "cell_type": "markdown",
      "metadata": {
        "id": "E0MolHsQoMKH",
        "colab_type": "text"
      },
      "source": [
        "Our data gives us access to multiple columns of information on hundreds of thousands of opioid transactions to pharmacies around the United States. To find out what companies sold to how many people and where, we will have to thoroughly explore our data around different times and in different states and counties within states. Combining our transaction data with United States Census data about individual states and counties allows us to further explore what places the opioid crisis has affected the most. By combining data from these two datasets, for example, we can find what Ohio counties the most opioid transactions have occured in, how many opioids there are in the county compared to how many people live there, and how many sales there were in different counties of varying economic status. We can also get a general idea of what type of person pharmaceutical companies typically target opioid sales to, as we have access to average county age and average income per person in each county."
      ]
    },
    {
      "cell_type": "code",
      "metadata": {
        "id": "qv68VwJra4gp",
        "colab_type": "code",
        "cellView": "form",
        "colab": {}
      },
      "source": [
        "#@title \n",
        "import pandas as pd\n",
        "import random\n",
        "import numpy as np\n",
        "import matplotlib.pyplot as plt"
      ],
      "execution_count": 0,
      "outputs": []
    },
    {
      "cell_type": "code",
      "metadata": {
        "id": "TnbPJvnlboMD",
        "colab_type": "code",
        "outputId": "62cd6d99-1239-4af6-a6dd-9450f67b14b7",
        "cellView": "form",
        "colab": {
          "base_uri": "https://localhost:8080/",
          "height": 67
        }
      },
      "source": [
        "#@title \n",
        "from google.colab import drive\n",
        "drive.mount('/content/drive', force_remount=True)\n",
        "!ls 'drive/My Drive/arcos-oh-statewide-itemized.tsv.gz'\n",
        "!ls 'drive/My Drive/co-est00int-01-39.xls'"
      ],
      "execution_count": 0,
      "outputs": [
        {
          "output_type": "stream",
          "text": [
            "Mounted at /content/drive\n",
            "'drive/My Drive/arcos-oh-statewide-itemized.tsv.gz'\n",
            "'drive/My Drive/co-est00int-01-39.xls'\n"
          ],
          "name": "stdout"
        }
      ]
    },
    {
      "cell_type": "code",
      "metadata": {
        "id": "sDkVldqBbvot",
        "colab_type": "code",
        "outputId": "99440c5a-7467-4467-a028-cecaf9db6a22",
        "cellView": "form",
        "colab": {
          "base_uri": "https://localhost:8080/",
          "height": 467
        }
      },
      "source": [
        "#@title \n",
        "test= pd.read_csv('drive/My Drive/arcos-oh-statewide-itemized.tsv.gz', sep='\\t', error_bad_lines = False)\n",
        "# Drop Unnecessary Columns\n",
        "simpleOhio = test[['BUYER_NAME','BUYER_ADDRESS1', 'BUYER_ADDRESS2', 'BUYER_CITY', 'BUYER_STATE', 'BUYER_ZIP', 'BUYER_COUNTY','DRUG_NAME', 'QUANTITY', 'UNIT', 'TRANSACTION_DATE', 'CALC_BASE_WT_IN_GM', 'DOSAGE_UNIT', 'Product_Name', 'Ingredient_Name','Revised_Company_Name', 'Reporter_family']]\n",
        "simpleOhio.head()"
      ],
      "execution_count": 0,
      "outputs": [
        {
          "output_type": "stream",
          "text": [
            "/usr/local/lib/python3.6/dist-packages/IPython/core/interactiveshell.py:2718: DtypeWarning:\n",
            "\n",
            "Columns (3,5,22,25,26,27) have mixed types. Specify dtype option on import or set low_memory=False.\n",
            "\n"
          ],
          "name": "stderr"
        },
        {
          "output_type": "execute_result",
          "data": {
            "text/html": [
              "<div>\n",
              "<style scoped>\n",
              "    .dataframe tbody tr th:only-of-type {\n",
              "        vertical-align: middle;\n",
              "    }\n",
              "\n",
              "    .dataframe tbody tr th {\n",
              "        vertical-align: top;\n",
              "    }\n",
              "\n",
              "    .dataframe thead th {\n",
              "        text-align: right;\n",
              "    }\n",
              "</style>\n",
              "<table border=\"1\" class=\"dataframe\">\n",
              "  <thead>\n",
              "    <tr style=\"text-align: right;\">\n",
              "      <th></th>\n",
              "      <th>BUYER_NAME</th>\n",
              "      <th>BUYER_ADDRESS1</th>\n",
              "      <th>BUYER_ADDRESS2</th>\n",
              "      <th>BUYER_CITY</th>\n",
              "      <th>BUYER_STATE</th>\n",
              "      <th>BUYER_ZIP</th>\n",
              "      <th>BUYER_COUNTY</th>\n",
              "      <th>DRUG_NAME</th>\n",
              "      <th>QUANTITY</th>\n",
              "      <th>UNIT</th>\n",
              "      <th>TRANSACTION_DATE</th>\n",
              "      <th>CALC_BASE_WT_IN_GM</th>\n",
              "      <th>DOSAGE_UNIT</th>\n",
              "      <th>Product_Name</th>\n",
              "      <th>Ingredient_Name</th>\n",
              "      <th>Revised_Company_Name</th>\n",
              "      <th>Reporter_family</th>\n",
              "    </tr>\n",
              "  </thead>\n",
              "  <tbody>\n",
              "    <tr>\n",
              "      <th>0</th>\n",
              "      <td>BACH, JOHN M DVM</td>\n",
              "      <td>WAVERLY VETERINARY HOSPITAL INC</td>\n",
              "      <td>95 WOODLAND DRIVE</td>\n",
              "      <td>WAVERLY</td>\n",
              "      <td>OH</td>\n",
              "      <td>45690</td>\n",
              "      <td>PIKE</td>\n",
              "      <td>HYDROCODONE</td>\n",
              "      <td>1.0</td>\n",
              "      <td>NaN</td>\n",
              "      <td>7252007</td>\n",
              "      <td>0.3027</td>\n",
              "      <td>100.0</td>\n",
              "      <td>HYDROCOD.BIT. 5MG/HOMATROPINE.METHYL</td>\n",
              "      <td>HYDROCODONE BITARTRATE HEMIPENTAHYDRATE</td>\n",
              "      <td>Allergan, Inc.</td>\n",
              "      <td>Columbus Serum Co</td>\n",
              "    </tr>\n",
              "    <tr>\n",
              "      <th>1</th>\n",
              "      <td>COUNTS, GAIL E DVM</td>\n",
              "      <td>SHAWNEE ANIMAL CLINIC</td>\n",
              "      <td>101 BIERLY RD</td>\n",
              "      <td>PORTSMOUTH</td>\n",
              "      <td>OH</td>\n",
              "      <td>45662</td>\n",
              "      <td>SCIOTO</td>\n",
              "      <td>HYDROCODONE</td>\n",
              "      <td>1.0</td>\n",
              "      <td>NaN</td>\n",
              "      <td>7102006</td>\n",
              "      <td>0.3027</td>\n",
              "      <td>100.0</td>\n",
              "      <td>HYDROCOD.BIT. 5MG/HOMATROPINE.METHYL</td>\n",
              "      <td>HYDROCODONE BITARTRATE HEMIPENTAHYDRATE</td>\n",
              "      <td>Allergan, Inc.</td>\n",
              "      <td>Columbus Serum Co</td>\n",
              "    </tr>\n",
              "    <tr>\n",
              "      <th>2</th>\n",
              "      <td>COUNTS, GAIL E DVM</td>\n",
              "      <td>SHAWNEE ANIMAL CLINIC</td>\n",
              "      <td>101 BIERLY RD</td>\n",
              "      <td>PORTSMOUTH</td>\n",
              "      <td>OH</td>\n",
              "      <td>45662</td>\n",
              "      <td>SCIOTO</td>\n",
              "      <td>HYDROCODONE</td>\n",
              "      <td>2.0</td>\n",
              "      <td>NaN</td>\n",
              "      <td>11102009</td>\n",
              "      <td>0.6054</td>\n",
              "      <td>200.0</td>\n",
              "      <td>TUSSIGON 5MG HYD.BIT&amp;HOMA MBR 1.5MG/</td>\n",
              "      <td>HYDROCODONE BITARTRATE HEMIPENTAHYDRATE</td>\n",
              "      <td>Pfizer Laboratories Div Pfizer Inc</td>\n",
              "      <td>Columbus Serum Co</td>\n",
              "    </tr>\n",
              "    <tr>\n",
              "      <th>3</th>\n",
              "      <td>DRESBACH, HUGH DELNO DVM</td>\n",
              "      <td>1130 NORTH COURT STREET</td>\n",
              "      <td>NaN</td>\n",
              "      <td>CIRCLEVILLE</td>\n",
              "      <td>OH</td>\n",
              "      <td>43113</td>\n",
              "      <td>PICKAWAY</td>\n",
              "      <td>HYDROCODONE</td>\n",
              "      <td>5.0</td>\n",
              "      <td>NaN</td>\n",
              "      <td>7112007</td>\n",
              "      <td>1.5135</td>\n",
              "      <td>500.0</td>\n",
              "      <td>HYDROCOD.BIT. 5MG/HOMATROPINE.METHYL</td>\n",
              "      <td>HYDROCODONE BITARTRATE HEMIPENTAHYDRATE</td>\n",
              "      <td>Allergan, Inc.</td>\n",
              "      <td>Columbus Serum Co</td>\n",
              "    </tr>\n",
              "    <tr>\n",
              "      <th>4</th>\n",
              "      <td>FARST, DAVID W DVM</td>\n",
              "      <td>510 N MAIN STREET</td>\n",
              "      <td>NaN</td>\n",
              "      <td>ARCANUM</td>\n",
              "      <td>OH</td>\n",
              "      <td>45304</td>\n",
              "      <td>DARKE</td>\n",
              "      <td>HYDROCODONE</td>\n",
              "      <td>1.0</td>\n",
              "      <td>NaN</td>\n",
              "      <td>11282006</td>\n",
              "      <td>0.3027</td>\n",
              "      <td>100.0</td>\n",
              "      <td>HYDROCOD.BIT. 5MG/HOMATROPINE.METHYL</td>\n",
              "      <td>HYDROCODONE BITARTRATE HEMIPENTAHYDRATE</td>\n",
              "      <td>Allergan, Inc.</td>\n",
              "      <td>Columbus Serum Co</td>\n",
              "    </tr>\n",
              "  </tbody>\n",
              "</table>\n",
              "</div>"
            ],
            "text/plain": [
              "                 BUYER_NAME  ...    Reporter_family\n",
              "0          BACH, JOHN M DVM  ...  Columbus Serum Co\n",
              "1        COUNTS, GAIL E DVM  ...  Columbus Serum Co\n",
              "2        COUNTS, GAIL E DVM  ...  Columbus Serum Co\n",
              "3  DRESBACH, HUGH DELNO DVM  ...  Columbus Serum Co\n",
              "4        FARST, DAVID W DVM  ...  Columbus Serum Co\n",
              "\n",
              "[5 rows x 17 columns]"
            ]
          },
          "metadata": {
            "tags": []
          },
          "execution_count": 42
        }
      ]
    },
    {
      "cell_type": "code",
      "metadata": {
        "id": "y3Sy1fa2b2mZ",
        "colab_type": "code",
        "outputId": "e1ba5864-17bf-4a6f-8f0b-28a609213902",
        "cellView": "form",
        "colab": {
          "base_uri": "https://localhost:8080/",
          "height": 195
        }
      },
      "source": [
        "#@title \n",
        "#census data from US Census Website\n",
        "censusData = pd.ExcelFile('drive/My Drive/co-est00int-01-39.xls')\n",
        "censusData.sheet_names\n",
        "df = censusData.parse('CO-EST00INT-01-39')\n",
        "df.columns = df.loc[0]\n",
        "df = df.drop(df.index[0])\n",
        "df.reset_index(drop = True, inplace= True)\n",
        "#Get average county population for timeframe of ARCOS\n",
        "df.columns = ['County','gone','2000','2001','2002','2003','2004','2005','2006','2007','2008','2009','2010','2011']\n",
        "census = df.drop(['gone','2000','2001','2002','2003','2004','2005','2010','2011'], axis=1)\n",
        "censusOhio = census.drop(census.index[0])\n",
        "censusOhio.reset_index(drop = True, inplace = True)\n",
        "countyPop = censusOhio.loc[:, \"2006\":\"2009\"]\n",
        "censusOhio['countyPop'] = countyPop.mean(axis=1)\n",
        "censusOhio = censusOhio.dropna()\n",
        "censusOhio['countyPop'] = censusOhio['countyPop'].astype(int)\n",
        "censusOhio.head()"
      ],
      "execution_count": 0,
      "outputs": [
        {
          "output_type": "execute_result",
          "data": {
            "text/html": [
              "<div>\n",
              "<style scoped>\n",
              "    .dataframe tbody tr th:only-of-type {\n",
              "        vertical-align: middle;\n",
              "    }\n",
              "\n",
              "    .dataframe tbody tr th {\n",
              "        vertical-align: top;\n",
              "    }\n",
              "\n",
              "    .dataframe thead th {\n",
              "        text-align: right;\n",
              "    }\n",
              "</style>\n",
              "<table border=\"1\" class=\"dataframe\">\n",
              "  <thead>\n",
              "    <tr style=\"text-align: right;\">\n",
              "      <th></th>\n",
              "      <th>County</th>\n",
              "      <th>2006</th>\n",
              "      <th>2007</th>\n",
              "      <th>2008</th>\n",
              "      <th>2009</th>\n",
              "      <th>countyPop</th>\n",
              "    </tr>\n",
              "  </thead>\n",
              "  <tbody>\n",
              "    <tr>\n",
              "      <th>0</th>\n",
              "      <td>.Adams County</td>\n",
              "      <td>28615.0</td>\n",
              "      <td>28538.0</td>\n",
              "      <td>28686.0</td>\n",
              "      <td>28500.0</td>\n",
              "      <td>28584</td>\n",
              "    </tr>\n",
              "    <tr>\n",
              "      <th>1</th>\n",
              "      <td>.Allen County</td>\n",
              "      <td>106716.0</td>\n",
              "      <td>106717.0</td>\n",
              "      <td>106773.0</td>\n",
              "      <td>106518.0</td>\n",
              "      <td>106681</td>\n",
              "    </tr>\n",
              "    <tr>\n",
              "      <th>2</th>\n",
              "      <td>.Ashland County</td>\n",
              "      <td>53231.0</td>\n",
              "      <td>53544.0</td>\n",
              "      <td>53499.0</td>\n",
              "      <td>53305.0</td>\n",
              "      <td>53394</td>\n",
              "    </tr>\n",
              "    <tr>\n",
              "      <th>3</th>\n",
              "      <td>.Ashtabula County</td>\n",
              "      <td>102340.0</td>\n",
              "      <td>102156.0</td>\n",
              "      <td>101826.0</td>\n",
              "      <td>101584.0</td>\n",
              "      <td>101976</td>\n",
              "    </tr>\n",
              "    <tr>\n",
              "      <th>4</th>\n",
              "      <td>.Athens County</td>\n",
              "      <td>64237.0</td>\n",
              "      <td>64102.0</td>\n",
              "      <td>64546.0</td>\n",
              "      <td>64618.0</td>\n",
              "      <td>64375</td>\n",
              "    </tr>\n",
              "  </tbody>\n",
              "</table>\n",
              "</div>"
            ],
            "text/plain": [
              "              County      2006      2007      2008      2009  countyPop\n",
              "0      .Adams County   28615.0   28538.0   28686.0   28500.0      28584\n",
              "1      .Allen County  106716.0  106717.0  106773.0  106518.0     106681\n",
              "2    .Ashland County   53231.0   53544.0   53499.0   53305.0      53394\n",
              "3  .Ashtabula County  102340.0  102156.0  101826.0  101584.0     101976\n",
              "4     .Athens County   64237.0   64102.0   64546.0   64618.0      64375"
            ]
          },
          "metadata": {
            "tags": []
          },
          "execution_count": 43
        }
      ]
    },
    {
      "cell_type": "markdown",
      "metadata": {
        "id": "GHo8JSE9ZECE",
        "colab_type": "text"
      },
      "source": [
        "### Methodology"
      ]
    },
    {
      "cell_type": "markdown",
      "metadata": {
        "id": "4I4sLE1VZJ7G",
        "colab_type": "text"
      },
      "source": [
        "Using the data we have available from these datasets, we can explore such questions as which counties have been sold the most opioids, which drugs have been sold the most, and what companies are most responsible for these transactions. "
      ]
    },
    {
      "cell_type": "markdown",
      "metadata": {
        "id": "SYoGsU9ndnU4",
        "colab_type": "text"
      },
      "source": [
        "Below is a basic visualization of the top 5 pharmaceutical companies with the most transactions within all 7 included years of the ARCOS dataset. We can use this data to get a better idea of what companies have gained the most from overprescribing opioids in the state of Ohio. From here, we can explore what counties these companies have sold to the most, and what medication these companies are selling in these transactions. We will also be able to tell the top overprescribing companies in each county, and if these companies typically target old or young counties, or perhaps high income or low income counties."
      ]
    },
    {
      "cell_type": "code",
      "metadata": {
        "id": "A3qgw23fZCcA",
        "colab_type": "code",
        "cellView": "form",
        "outputId": "bfec780b-505f-480f-967d-f9a41062b5d6",
        "colab": {
          "base_uri": "https://localhost:8080/",
          "height": 281
        }
      },
      "source": [
        "#@title \n",
        "countByCompany = simpleOhio.groupby('Revised_Company_Name').size().reset_index(name = 'counts')\n",
        "companiesSorted = countByCompany.sort_values(by = ['counts'], ascending= False)\n",
        "top5 = companiesSorted[:5]\n",
        "objects = top5.Revised_Company_Name\n",
        "y_pos = np.arange(len(objects))\n",
        "values = top5.counts\n",
        "plt.barh(y_pos, values, align='center', alpha=0.5)\n",
        "plt.yticks(y_pos, objects)\n",
        "plt.ylabel('Company')\n",
        "plt.title('Top 5 Companies By Transactions')\n",
        "\n",
        "plt.show()"
      ],
      "execution_count": 0,
      "outputs": [
        {
          "output_type": "display_data",
          "data": {
            "image/png": "[encoded data removed]",
            "text/plain": [
              "<Figure size 432x288 with 1 Axes>"
            ]
          },
          "metadata": {
            "tags": []
          }
        }
      ]
    },
    {
      "cell_type": "markdown",
      "metadata": {
        "id": "-XShkSyFhJrV",
        "colab_type": "text"
      },
      "source": [
        "We can also use the data available to us to compare each county in a state to see what areas have been affected most over time. We are able to see how transactions per county have changed from year to year. We can also use locational data from ARCOS to see what medications have been sold the most by county and what counties have the most transactions per the population of the county. "
      ]
    },
    {
      "cell_type": "markdown",
      "metadata": {
        "id": "1aBp7I9bjATU",
        "colab_type": "text"
      },
      "source": [
        "Below is a simple heatmap generated using plotly that shows how many transactions have occured in each county for every year combined in the ARCOS dataset. This heatmap can be replicated for each year to show the change in amount of transactions per county over time."
      ]
    },
    {
      "cell_type": "code",
      "metadata": {
        "id": "qwHwT9KXkplL",
        "colab_type": "code",
        "cellView": "form",
        "outputId": "61b892e5-c08a-4620-ddb2-7790e6729b68",
        "colab": {
          "base_uri": "https://localhost:8080/",
          "height": 1000
        }
      },
      "source": [
        "#@title \n",
        "# Fips code for each county -- used in plotly\n",
        "FIPS = ['39001','39003', '39005', '39007', '39009', '39011', '39013', '39015','39017', '39019', '39021', '39023', '39025', '39027', '39029', '39031', '39033', '39035', '39037', '39039', '39041', \\\n",
        "        '39043', '39045', '39047', '39049', '39051', '39053', '39055', '39057', '39059', '39061', '39063', '39065', '39067', '39069', '39071', '39073', '39075', '39077', '39079', '39081',\\\n",
        "        '39083', '39085', '39087', '39089', '39091', '39093', '39095', '39097', '39099', '39101', '39103', '39105', '39107', '39109', '39111', '39113', '39115', '39117', '39119', '39121',\\\n",
        "        '39123', '39125', '39127', '39129', '39131', '39133', '39135', '39137', '39139', '39141', '39143', '39145', '39147', '39149', '39151', '39153', '39155', '39157', '39159', '39161', \\\n",
        "        '39163', '39165', '39167', '39169', '39171', '39173', '39175']\n",
        "\n",
        "\n",
        "#plotly heat map -- transactions by county\n",
        "import plotly.figure_factory as ff\n",
        "!pip install plotly-geo\n",
        "!pip install geopandas==0.3.0\n",
        "!pip install pyshp==1.2.10\n",
        "!pip install shapely==1.6.3\n",
        "!pip install plotly==4.1.0\n",
        "\n",
        "countByCounty = simpleOhio.groupby('BUYER_COUNTY').size().reset_index(name = 'counts')\n",
        "countByCounty\n",
        "\n",
        "values = countByCounty['counts'].tolist()\n",
        "fig = ff.create_choropleth(fips=FIPS, values=values, scope = ['OH'], legend_title = 'Number of Transactions', title = 'Total Opioid Transactions in Ohio', county_outline={'color': 'rgb(255,255,255)', 'width': 0.5})\n",
        "fig.layout.template = None\n",
        "\n",
        "fig.show()"
      ],
      "execution_count": 0,
      "outputs": [
        {
          "output_type": "stream",
          "text": [
            "Requirement already satisfied: plotly-geo in /usr/local/lib/python3.6/dist-packages (1.0.0)\n",
            "Requirement already satisfied: geopandas==0.3.0 in /usr/local/lib/python3.6/dist-packages (0.3.0)\n",
            "Requirement already satisfied: fiona in /usr/local/lib/python3.6/dist-packages (from geopandas==0.3.0) (1.8.9.post2)\n",
            "Requirement already satisfied: pandas in /usr/local/lib/python3.6/dist-packages (from geopandas==0.3.0) (0.25.3)\n",
            "Requirement already satisfied: descartes in /usr/local/lib/python3.6/dist-packages (from geopandas==0.3.0) (1.1.0)\n",
            "Requirement already satisfied: shapely in /usr/local/lib/python3.6/dist-packages (from geopandas==0.3.0) (1.6.3)\n",
            "Requirement already satisfied: pyproj in /usr/local/lib/python3.6/dist-packages (from geopandas==0.3.0) (2.4.1)\n",
            "Requirement already satisfied: six>=1.7 in /usr/local/lib/python3.6/dist-packages (from fiona->geopandas==0.3.0) (1.12.0)\n",
            "Requirement already satisfied: cligj>=0.5 in /usr/local/lib/python3.6/dist-packages (from fiona->geopandas==0.3.0) (0.5.0)\n",
            "Requirement already satisfied: munch in /usr/local/lib/python3.6/dist-packages (from fiona->geopandas==0.3.0) (2.5.0)\n",
            "Requirement already satisfied: click-plugins>=1.0 in /usr/local/lib/python3.6/dist-packages (from fiona->geopandas==0.3.0) (1.1.1)\n",
            "Requirement already satisfied: attrs>=17 in /usr/local/lib/python3.6/dist-packages (from fiona->geopandas==0.3.0) (19.3.0)\n",
            "Requirement already satisfied: click<8,>=4.0 in /usr/local/lib/python3.6/dist-packages (from fiona->geopandas==0.3.0) (7.0)\n",
            "Requirement already satisfied: pytz>=2017.2 in /usr/local/lib/python3.6/dist-packages (from pandas->geopandas==0.3.0) (2018.9)\n",
            "Requirement already satisfied: numpy>=1.13.3 in /usr/local/lib/python3.6/dist-packages (from pandas->geopandas==0.3.0) (1.17.3)\n",
            "Requirement already satisfied: python-dateutil>=2.6.1 in /usr/local/lib/python3.6/dist-packages (from pandas->geopandas==0.3.0) (2.6.1)\n",
            "Requirement already satisfied: matplotlib in /usr/local/lib/python3.6/dist-packages (from descartes->geopandas==0.3.0) (3.1.1)\n",
            "Requirement already satisfied: cycler>=0.10 in /usr/local/lib/python3.6/dist-packages (from matplotlib->descartes->geopandas==0.3.0) (0.10.0)\n",
            "Requirement already satisfied: kiwisolver>=1.0.1 in /usr/local/lib/python3.6/dist-packages (from matplotlib->descartes->geopandas==0.3.0) (1.1.0)\n",
            "Requirement already satisfied: pyparsing!=2.0.4,!=2.1.2,!=2.1.6,>=2.0.1 in /usr/local/lib/python3.6/dist-packages (from matplotlib->descartes->geopandas==0.3.0) (2.4.2)\n",
            "Requirement already satisfied: setuptools in /usr/local/lib/python3.6/dist-packages (from kiwisolver>=1.0.1->matplotlib->descartes->geopandas==0.3.0) (41.4.0)\n",
            "Requirement already satisfied: pyshp==1.2.10 in /usr/local/lib/python3.6/dist-packages (1.2.10)\n",
            "Requirement already satisfied: shapely==1.6.3 in /usr/local/lib/python3.6/dist-packages (1.6.3)\n",
            "Requirement already satisfied: plotly==4.1.0 in /usr/local/lib/python3.6/dist-packages (4.1.0)\n",
            "Requirement already satisfied: six in /usr/local/lib/python3.6/dist-packages (from plotly==4.1.0) (1.12.0)\n",
            "Requirement already satisfied: retrying>=1.3.3 in /usr/local/lib/python3.6/dist-packages (from plotly==4.1.0) (1.3.3)\n"
          ],
          "name": "stdout"
        },
        {
          "output_type": "stream",
          "text": [
            "/usr/local/lib/python3.6/dist-packages/pandas/core/frame.py:7138: FutureWarning:\n",
            "\n",
            "Sorting because non-concatenation axis is not aligned. A future version\n",
            "of pandas will change to not sort by default.\n",
            "\n",
            "To accept the future behavior, pass 'sort=False'.\n",
            "\n",
            "To retain the current behavior and silence the warning, pass 'sort=True'.\n",
            "\n",
            "\n"
          ],
          "name": "stderr"
        },
        {
          "output_type": "display_data",
          "data": {
            "text/html": [
              "<html>\n",
              "<head><meta charset=\"utf-8\" /></head>\n",
              "<body>\n",
              "    <div>\n",
              "            <script src=\"https://cdnjs.cloudflare.com/ajax/libs/mathjax/2.7.5/MathJax.js?config=TeX-AMS-MML_SVG\"></script><script type=\"text/javascript\">if (window.MathJax) {MathJax.Hub.Config({SVG: {font: \"STIX-Web\"}});}</script>\n",
              "                <script type=\"text/javascript\">window.PlotlyConfig = {MathJaxConfig: 'local'};</script>\n",
              "        <script src=\"https://cdn.plot.ly/plotly-latest.min.js\"></script>    \n",
              "            <div id=\"7a9f1786-2e1e-437d-9547-509e2a72e0ae\" class=\"plotly-graph-div\" style=\"height:450px; width:900px;\"></div>\n",
              "            <script type=\"text/javascript\">\n",
              "                \n",
              "                    window.PLOTLYENV=window.PLOTLYENV || {};\n",
              "                    \n",
              "                if (document.getElementById(\"7a9f1786-2e1e-437d-9547-509e2a72e0ae\")) {\n",
              "                    Plotly.newPlot(\n",
              "                        '7a9f1786-2e1e-437d-9547-509e2a72e0ae',\n",
              "                        [{\"fill\": \"toself\", \"fillcolor\": \"rgb(68, 1, 84)\", \"hoverinfo\": \"none\", \"line\": {\"color\": \"rgb(255,255,255)\", \"width\": 0.5}, \"mode\": \"lines\", \"name\": \"3704\", \"type\": \"scatter\", \"x\": [-82.760111, -82.74859099999999, -82.51758, -82.514479, -82.28966299999999, -82.298476, -82.260243, -82.26858299999999, -82.306669, -82.322874, -82.43530899999999, -82.42469299999999, -82.762892, -82.760111, null], \"y\": [39.237643999999996, 39.368165, 39.369468, 39.395767, 39.384195, 39.294996, 39.292915, 39.203759999999996, 39.205494, 39.027674, 39.035078999999996, 39.137816, 39.207967, 39.237643999999996, null]}, {\"fill\": \"toself\", \"fillcolor\": \"rgb(68, 1, 84)\", \"hoverinfo\": \"none\", \"line\": {\"color\": \"rgb(255,255,255)\", \"width\": 0.5}, \"mode\": \"lines\", \"name\": \"5511\", \"type\": \"scatter\", \"x\": [-82.079814, -82.076639, -81.63988599999999, -81.64320000000001, -81.58613199999999, -81.588185, -81.71552199999999, -81.70852699999999, -81.82315799999999, -81.825757, -82.055779, -82.024219, -82.079814, null], \"y\": [39.732676999999995, 39.770959999999995, 39.75342, 39.665681, 39.663993, 39.586973, 39.583400000000005, 39.480775, 39.494071999999996, 39.449172, 39.460052999999995, 39.724686, 39.732676999999995, null]}, {\"fill\": \"toself\", \"fillcolor\": \"rgb(68, 1, 84)\", \"hoverinfo\": \"none\", \"line\": {\"color\": \"rgb(255,255,255)\", \"width\": 0.5}, \"mode\": \"lines\", \"name\": \"6165\", \"type\": \"scatter\", \"x\": [-81.31824399999999, -81.313591, -80.82127899999999, -80.826079, -80.869933, -80.829764, -80.88036, -81.03870601730101, -81.036791, -81.26534699999999, -81.280588, -81.319125, -81.31824399999999, null], \"y\": [39.738579, 39.869471, 39.849982, 39.798584, 39.763555, 39.711839, 39.620706, 39.5400475328739, 39.572117999999996, 39.576809999999995, 39.707111999999995, 39.70736, 39.738579, null]}, {\"fill\": \"toself\", \"fillcolor\": \"rgb(68, 1, 84)\", \"hoverinfo\": \"none\", \"line\": {\"color\": \"rgb(255,255,255)\", \"width\": 0.5}, \"mode\": \"lines\", \"name\": \"6739\", \"type\": \"scatter\", \"x\": [-81.33805699999999, -81.33460099999999, -81.275319, -81.26995099999999, -80.865504, -80.882892, -81.339565, -81.33805699999999, null], \"y\": [40.214253, 40.304316, 40.303433999999996, 40.433485999999995, 40.422928999999996, 40.159495, 40.171999, 40.214253, null]}, {\"fill\": \"toself\", \"fillcolor\": \"rgb(68, 1, 84)\", \"hoverinfo\": \"none\", \"line\": {\"color\": \"rgb(255,255,255)\", \"width\": 0.5}, \"mode\": \"lines\", \"name\": \"7138\", \"type\": \"scatter\", \"x\": [-84.80377999999999, -84.80349214742239, -84.457217, -84.457059, -84.341607, -84.341911, -84.80331311272211, -84.80377999999999, null], \"y\": [41.140519999999995, 41.2525618431087, 41.253485, 41.209434, 41.20906, 40.990691999999996, 40.9893939621464, 41.140519999999995, null]}, {\"fill\": \"toself\", \"fillcolor\": \"rgb(68, 1, 84)\", \"hoverinfo\": \"none\", \"line\": {\"color\": \"rgb(255,255,255)\", \"width\": 0.5}, \"mode\": \"lines\", \"name\": \"7754\", \"type\": \"scatter\", \"x\": [-82.220665, -81.65004499999999, -81.669654, -82.184607, -82.179069, -82.22010999999999, -82.220665, null], \"y\": [40.66758, 40.668116999999995, 40.443866, 40.45628, 40.573111999999995, 40.568205999999996, 40.66758, null]}, {\"fill\": \"toself\", \"fillcolor\": \"rgb(72, 24, 106)\", \"hoverinfo\": \"none\", \"line\": {\"color\": \"rgb(255,255,255)\", \"width\": 0.5}, \"mode\": \"lines\", \"name\": \"7840\", \"type\": \"scatter\", \"x\": [-81.321006, -81.317739, -81.24125, -81.23722699999999, -81.198599, -80.917172, -80.918125, -80.860822, -80.863567, -80.92092, -80.94191099999999, -81.26995099999999, -81.264744, -81.321006, null], \"y\": [40.579308, 40.651579, 40.650534, 40.723541999999995, 40.729172, 40.726934, 40.643464, 40.64257, 40.555411, 40.556315, 40.4247, 40.433485999999995, 40.565042, 40.579308, null]}, {\"fill\": \"toself\", \"fillcolor\": \"rgb(72, 24, 106)\", \"hoverinfo\": \"none\", \"line\": {\"color\": \"rgb(255,255,255)\", \"width\": 0.5}, \"mode\": \"lines\", \"name\": \"9329\", \"type\": \"scatter\", \"x\": [-81.697442, -81.69414599999999, -81.58031299999999, -81.57858999999999, -81.464108, -81.46275, -81.386809, -81.386006, -81.234053, -81.23731599999999, -81.313591, -81.319125, -81.280588, -81.28353, -81.39493399999999, -81.47316, -81.47347099999999, -81.588185, -81.58613199999999, -81.64320000000001, -81.63988599999999, -81.697442, null], \"y\": [39.755572, 39.842636, 39.839104, 39.897683, 39.894549999999995, 39.923500000000004, 39.921518, 39.950694, 39.95127, 39.867827999999996, 39.869471, 39.70736, 39.707111999999995, 39.591837999999996, 39.601547, 39.645976, 39.583318, 39.586973, 39.663993, 39.665681, 39.75342, 39.755572, null]}, {\"fill\": \"toself\", \"fillcolor\": \"rgb(72, 24, 106)\", \"hoverinfo\": \"none\", \"line\": {\"color\": \"rgb(255,255,255)\", \"width\": 0.5}, \"mode\": \"lines\", \"name\": \"9954\", \"type\": \"scatter\", \"x\": [-84.34190199999999, -83.882943, -83.881149, -84.228222, -84.228454, -84.341664, -84.34190199999999, null], \"y\": [41.485519, 41.487542999999995, 41.167823999999996, 41.165862, 41.42781, 41.427568, 41.485519, null]}, {\"fill\": \"toself\", \"fillcolor\": \"rgb(72, 24, 106)\", \"hoverinfo\": \"none\", \"line\": {\"color\": \"rgb(255,255,255)\", \"width\": 0.5}, \"mode\": \"lines\", \"name\": \"9983\", \"type\": \"scatter\", \"x\": [-83.515883, -83.51472799999999, -83.47674099999999, -83.45785, -83.112737, -83.11135999999999, -83.49529799999999, -83.515883, null], \"y\": [40.818134, 40.905114999999995, 40.904964, 40.991671, 40.993446999999996, 40.702915, 40.701533999999995, 40.818134, null]}, {\"fill\": \"toself\", \"fillcolor\": \"rgb(72, 24, 106)\", \"hoverinfo\": \"none\", \"line\": {\"color\": \"rgb(255,255,255)\", \"width\": 0.5}, \"mode\": \"lines\", \"name\": \"13289\", \"type\": \"scatter\", \"x\": [-83.020798, -83.016785, -82.958401, -82.95781699999999, -82.859753, -82.85819699999999, -82.627191, -82.646503, -82.929588, -82.924781, -83.020798, null], \"y\": [40.433794999999996, 40.484511, 40.490663999999995, 40.645148, 40.646395, 40.712423, 40.709416, 40.345076, 40.358123, 40.415003999999996, 40.433794999999996, null]}, {\"fill\": \"toself\", \"fillcolor\": \"rgb(71, 45, 123)\", \"hoverinfo\": \"none\", \"line\": {\"color\": \"rgb(255,255,255)\", \"width\": 0.5}, \"mode\": \"lines\", \"name\": \"13735\", \"type\": \"scatter\", \"x\": [-84.80444609706049, -84.80211911064869, -84.456172, -84.455418, -84.431632, -84.8041185884184, -84.80444609706049, null], \"y\": [40.416682727497204, 40.728145936904696, 40.728305999999996, 40.358588999999995, 40.354198, 40.3527569382653, 40.416682727497204, null]}, {\"fill\": \"toself\", \"fillcolor\": \"rgb(71, 45, 123)\", \"hoverinfo\": \"none\", \"line\": {\"color\": \"rgb(255,255,255)\", \"width\": 0.5}, \"mode\": \"lines\", \"name\": \"15133\", \"type\": \"scatter\", \"x\": [-84.80331311272211, -84.399486, -84.39840699999999, -84.340969, -84.340615, -84.34010099999999, -84.397374, -84.396778, -84.45617999999999, -84.456172, -84.80211911064869, -84.80331311272211, null], \"y\": [40.9893939621464, 40.990314999999995, 40.903265, 40.903596, 40.875575, 40.816143, 40.815940999999995, 40.684926, 40.684861999999995, 40.728305999999996, 40.728145936904696, 40.9893939621464, null]}, {\"fill\": \"toself\", \"fillcolor\": \"rgb(71, 45, 123)\", \"hoverinfo\": \"none\", \"line\": {\"color\": \"rgb(255,255,255)\", \"width\": 0.5}, \"mode\": \"lines\", \"name\": \"16416\", \"type\": \"scatter\", \"x\": [-82.19324999999999, -82.184607, -81.709132, -81.712288, -81.61603, -81.622683, -81.66758999999999, -81.67089899999999, -82.187105, -82.19324999999999, null], \"y\": [40.290287, 40.45628, 40.444775, 40.370804, 40.368117999999996, 40.221308, 40.222468, 40.150976, 40.16688, 40.290287, null]}, {\"fill\": \"toself\", \"fillcolor\": \"rgb(71, 45, 123)\", \"hoverinfo\": \"none\", \"line\": {\"color\": \"rgb(255,255,255)\", \"width\": 0.5}, \"mode\": \"lines\", \"name\": \"16672\", \"type\": \"scatter\", \"x\": [-84.399486, -84.341911, -84.341602, -83.881149, -83.880423, -84.109516, -84.109586, -84.340531, -84.340969, -84.39840699999999, -84.399486, null], \"y\": [40.990314999999995, 40.990691999999996, 41.165524, 41.167823999999996, 40.920429, 40.90473, 40.860994, 40.859099, 40.903596, 40.903265, 40.990314999999995, null]}, {\"fill\": \"toself\", \"fillcolor\": \"rgb(71, 45, 123)\", \"hoverinfo\": \"none\", \"line\": {\"color\": \"rgb(255,255,255)\", \"width\": 0.5}, \"mode\": \"lines\", \"name\": \"17319\", \"type\": \"scatter\", \"x\": [-82.436916, -82.171492, -82.17335899999999, -82.129334, -82.126199, -82.220665, -82.22010999999999, -82.336962, -82.33921099999999, -82.37839699999999, -82.378953, -82.420752, -82.436916, null], \"y\": [41.065379, 41.063537, 40.992081999999996, 40.991807, 40.668229, 40.66758, 40.568205999999996, 40.555001, 40.726683, 40.727145, 40.787227, 40.82333, 41.065379, null]}, {\"fill\": \"toself\", \"fillcolor\": \"rgb(66, 64, 134)\", \"hoverinfo\": \"none\", \"line\": {\"color\": \"rgb(255,255,255)\", \"width\": 0.5}, \"mode\": \"lines\", \"name\": \"17743\", \"type\": \"scatter\", \"x\": [-82.322874, -82.306669, -81.7558150545194, -81.744621, -81.752353, -81.81385499999999, -81.764253, -81.78182, -81.758506, -81.827354, -81.88923299999999, -81.928, -81.89847, -81.93318599999999, -82.00706199999999, -82.0988733706356, -82.09546499999999, -82.322874, null], \"y\": [39.027674, 39.205494, 39.180524196556696, 39.148413, 39.089878, 39.079277999999995, 39.015279, 38.964935, 38.927942, 38.945898, 38.874279, 38.893491999999995, 38.929603, 38.987659, 39.029578, 38.9583193160251, 39.002778, 39.027674, null]}, {\"fill\": \"toself\", \"fillcolor\": \"rgb(66, 64, 134)\", \"hoverinfo\": \"none\", \"line\": {\"color\": \"rgb(255,255,255)\", \"width\": 0.5}, \"mode\": \"lines\", \"name\": \"18019\", \"type\": \"scatter\", \"x\": [-84.8060498409785, -84.39954710435259, -84.380735, -84.342051, -84.341664, -84.8039563404477, -84.8060498409785, null], \"y\": [41.689063906615594, 41.705860430932304, 41.513942, 41.514106999999996, 41.427568, 41.4260444864396, 41.689063906615594, null]}, {\"fill\": \"toself\", \"fillcolor\": \"rgb(66, 64, 134)\", \"hoverinfo\": \"none\", \"line\": {\"color\": \"rgb(255,255,255)\", \"width\": 0.5}, \"mode\": \"lines\", \"name\": \"19387\", \"type\": \"scatter\", \"x\": [-82.747444, -82.730272, -82.620088, -82.61754599999999, -82.496123, -82.490329, -82.37453099999999, -82.37989, -82.159161, -82.167379, -82.28041, -82.28966299999999, -82.514479, -82.51758, -82.63568599999999, -82.747444, null], \"y\": [39.3819, 39.569066, 39.563987, 39.608605, 39.602849, 39.661704, 39.654959, 39.596737999999995, 39.556574, 39.466307, 39.472905999999995, 39.384195, 39.395767, 39.369468, 39.361565999999996, 39.3819, null]}, {\"fill\": \"toself\", \"fillcolor\": \"rgb(66, 64, 134)\", \"hoverinfo\": \"none\", \"line\": {\"color\": \"rgb(255,255,255)\", \"width\": 0.5}, \"mode\": \"lines\", \"name\": \"20718\", \"type\": \"scatter\", \"x\": [-83.880194, -83.88006299999999, -83.496296, -83.49529799999999, -83.41983599999999, -83.415303, -83.87983799999999, -83.880194, null], \"y\": [40.64469, 40.819919, 40.81794, 40.701533999999995, 40.686823, 40.515495, 40.531861, 40.64469, null]}, {\"fill\": \"toself\", \"fillcolor\": \"rgb(66, 64, 134)\", \"hoverinfo\": \"none\", \"line\": {\"color\": \"rgb(255,255,255)\", \"width\": 0.5}, \"mode\": \"lines\", \"name\": \"21878\", \"type\": \"scatter\", \"x\": [-83.665343, -83.65333, -83.25243499999999, -83.26673699999999, -83.372714, -83.59087799999999, -83.576286, -83.67019599999999, -83.665343, null], \"y\": [39.598772, 39.716876, 39.695437999999996, 39.516248999999995, 39.377416, 39.378735999999996, 39.544547, 39.550253999999995, 39.598772, null]}, {\"fill\": \"toself\", \"fillcolor\": \"rgb(59, 82, 139)\", \"hoverinfo\": \"none\", \"line\": {\"color\": \"rgb(255,255,255)\", \"width\": 0.5}, \"mode\": \"lines\", \"name\": \"22186\", \"type\": \"scatter\", \"x\": [-84.804046, -84.228454, -84.228222, -84.341602, -84.341607, -84.457059, -84.457217, -84.80349214742239, -84.804046, null], \"y\": [41.408361, 41.42781, 41.165862, 41.165524, 41.20906, 41.209434, 41.253485, 41.2525618431087, 41.408361, null]}, {\"fill\": \"toself\", \"fillcolor\": \"rgb(59, 82, 139)\", \"hoverinfo\": \"none\", \"line\": {\"color\": \"rgb(255,255,255)\", \"width\": 0.5}, \"mode\": \"lines\", \"name\": \"22324\", \"type\": \"scatter\", \"x\": [-84.03193499999999, -84.014763, -83.494498, -83.516155, -84.036069, -84.03193499999999, null], \"y\": [40.086072, 40.273458999999995, 40.225466999999995, 40.010188, 40.040182, 40.086072, null]}, {\"fill\": \"toself\", \"fillcolor\": \"rgb(59, 82, 139)\", \"hoverinfo\": \"none\", \"line\": {\"color\": \"rgb(255,255,255)\", \"width\": 0.5}, \"mode\": \"lines\", \"name\": \"22632\", \"type\": \"scatter\", \"x\": [-84.39954710435259, -83.8803872265963, -83.882943, -84.34190199999999, -84.342051, -84.380735, -84.39954710435259, null], \"y\": [41.705860430932304, 41.7200894495242, 41.487542999999995, 41.485519, 41.514106999999996, 41.513942, 41.705860430932304, null]}, {\"fill\": \"toself\", \"fillcolor\": \"rgb(59, 82, 139)\", \"hoverinfo\": \"none\", \"line\": {\"color\": \"rgb(255,255,255)\", \"width\": 0.5}, \"mode\": \"lines\", \"name\": \"22672\", \"type\": \"scatter\", \"x\": [-84.45617999999999, -83.880194, -83.879932, -83.993867, -83.993781, -84.33908799999999, -84.338768, -84.455418, -84.45617999999999, null], \"y\": [40.684861999999995, 40.64469, 40.538708, 40.535174, 40.483004, 40.481280999999996, 40.378741999999995, 40.358588999999995, 40.684861999999995, null]}, {\"fill\": \"toself\", \"fillcolor\": \"rgb(59, 82, 139)\", \"hoverinfo\": \"none\", \"line\": {\"color\": \"rgb(255,255,255)\", \"width\": 0.5}, \"mode\": \"lines\", \"name\": \"23200\", \"type\": \"scatter\", \"x\": [-84.812411, -84.8041185884184, -84.434631, -84.425902, -84.812411, null], \"y\": [39.916916, 40.3527569382653, 40.354259, 39.919622, 39.916916, null]}, {\"fill\": \"toself\", \"fillcolor\": \"rgb(51, 99, 141)\", \"hoverinfo\": \"none\", \"line\": {\"color\": \"rgb(255,255,255)\", \"width\": 0.5}, \"mode\": \"lines\", \"name\": \"23220\", \"type\": \"scatter\", \"x\": [-84.434631, -84.434018, -84.338768, -84.33908799999999, -84.002372, -84.022919, -84.432575, -84.434631, null], \"y\": [40.354259, 40.378246, 40.378741999999995, 40.481280999999996, 40.483115, 40.183945, 40.197037, 40.354259, null]}, {\"fill\": \"toself\", \"fillcolor\": \"rgb(51, 99, 141)\", \"hoverinfo\": \"none\", \"line\": {\"color\": \"rgb(255,255,255)\", \"width\": 0.5}, \"mode\": \"lines\", \"name\": \"24515\", \"type\": \"scatter\", \"x\": [-83.382297, -83.35353099999999, -82.78589099999999, -82.80709, -83.212107, -83.237811, -83.382297, null], \"y\": [39.069151, 39.197585, 39.168769, 38.948073, 38.960148, 39.009856, 39.069151, null]}, {\"fill\": \"toself\", \"fillcolor\": \"rgb(51, 99, 141)\", \"hoverinfo\": \"none\", \"line\": {\"color\": \"rgb(255,255,255)\", \"width\": 0.5}, \"mode\": \"lines\", \"name\": \"24827\", \"type\": \"scatter\", \"x\": [-82.742311, -82.733279, -82.72733699999999, -82.737082, -82.742311, null, -82.78801, -82.785403, -82.78387, -82.786688, -82.78801, null, -82.826443, -82.812805, -82.779938, -82.808624, -82.826443, null, -82.830349, -82.826111, -82.8225, -82.82964299999999, -82.830349, null, -82.83453899999999, -82.831366, -82.83053799999999, -82.834041, -82.83453899999999, null, -82.835577, -82.82571999999999, -82.810487, -82.808869, -82.835577, null, -82.84385, -82.834092, -82.793069, -82.834662, -82.84385, null, -82.85657499999999, -82.847966, -82.844473, -82.84881899999999, -82.85657499999999, null, -82.867874, -82.863276, -82.862065, -82.86833, -82.867874, null, -83.415919, -83.103928, -82.93436899999999, -82.87522899999999, -82.83410099999999, -82.785496, -82.71093499999999, -82.712544, -82.746352, -82.959042, -82.993095, -83.338196, -83.338991, -83.414626, -83.415919, null], \"y\": [41.496527, 41.502756999999995, 41.502579, 41.489405999999995, 41.496527, null, 41.678111, 41.67908, 41.678605, 41.676778999999996, 41.678111, null, 41.684774, 41.692001999999995, 41.695727, 41.670663999999995, 41.684774, null, 41.691806, 41.693487, 41.691826, 41.69081, 41.691806, null, 41.591103, 41.592121, 41.591635, 41.590399, 41.591103, null, 41.710823, 41.722809999999996, 41.720524, 41.708332999999996, 41.710823, null, 41.646474999999995, 41.657121, 41.664691999999995, 41.629331, 41.646474999999995, null, 41.682027999999995, 41.680406, 41.678829, 41.677115, 41.682027999999995, null, 41.645925, 41.646705999999995, 41.645126999999995, 41.644507, 41.645925, null, 41.618938, 41.613558, 41.514353, 41.529683999999996, 41.587587, 41.540675, 41.536648, 41.487124, 41.512012999999996, 41.487494999999996, 41.459527, 41.457508, 41.501189, 41.500228, 41.618938, null]}, {\"fill\": \"toself\", \"fillcolor\": \"rgb(51, 99, 141)\", \"hoverinfo\": \"none\", \"line\": {\"color\": \"rgb(255,255,255)\", \"width\": 0.5}, \"mode\": \"lines\", \"name\": \"27013\", \"type\": \"scatter\", \"x\": [-83.112737, -82.724792, -82.727164, -83.11135999999999, -83.112737, null], \"y\": [40.993446999999996, 40.995638, 40.711203, 40.702915, 40.993446999999996, null]}, {\"fill\": \"toself\", \"fillcolor\": \"rgb(51, 99, 141)\", \"hoverinfo\": \"none\", \"line\": {\"color\": \"rgb(255,255,255)\", \"width\": 0.5}, \"mode\": \"lines\", \"name\": \"27230\", \"type\": \"scatter\", \"x\": [-83.7053136208764, -83.673018, -83.385637, -83.27210099999999, -83.286514, -83.366661, -83.52095299999999, -83.626922, -83.655425, -83.7053136208764, null], \"y\": [38.6397614234931, 39.02043, 39.055197, 39.01752, 38.599241, 38.658536999999995, 38.703044999999996, 38.679387, 38.629735, 38.6397614234931, null]}, {\"fill\": \"toself\", \"fillcolor\": \"rgb(44, 114, 142)\", \"hoverinfo\": \"none\", \"line\": {\"color\": \"rgb(255,255,255)\", \"width\": 0.5}, \"mode\": \"lines\", \"name\": \"27317\", \"type\": \"scatter\", \"x\": [-83.653386, -83.64716899999999, -83.58804099999999, -83.503714, -83.206273, -83.21219599999999, -83.255051, -83.260877, -83.22564299999999, -83.252031, -83.25243499999999, -83.653386, null], \"y\": [39.71774, 39.773029, 39.768778, 40.111467999999995, 40.107732999999996, 40.048069, 40.048614, 40.002807, 39.932262, 39.917363, 39.695437999999996, 39.71774, null]}, {\"fill\": \"toself\", \"fillcolor\": \"rgb(44, 114, 142)\", \"hoverinfo\": \"none\", \"line\": {\"color\": \"rgb(255,255,255)\", \"width\": 0.5}, \"mode\": \"lines\", \"name\": \"27793\", \"type\": \"scatter\", \"x\": [-82.472222, -82.462813, -82.16237199999999, -82.170047, -82.07293399999999, -82.080224, -82.024219, -82.039605, -82.37989, -82.366051, -82.404246, -82.396594, -82.472222, null], \"y\": [39.841879999999996, 39.93038, 39.909374, 39.82075, 39.816227, 39.727672999999996, 39.724686, 39.550216999999996, 39.596737999999995, 39.74252, 39.744605, 39.833057, 39.841879999999996, null]}, {\"fill\": \"toself\", \"fillcolor\": \"rgb(44, 114, 142)\", \"hoverinfo\": \"none\", \"line\": {\"color\": \"rgb(255,255,255)\", \"width\": 0.5}, \"mode\": \"lines\", \"name\": \"28013\", \"type\": \"scatter\", \"x\": [-81.725709, -81.716276, -81.67089899999999, -81.66758999999999, -81.33805699999999, -81.339565, -81.22592399999999, -81.234053, -81.386006, -81.386809, -81.46275, -81.464108, -81.57858999999999, -81.58031299999999, -81.69414599999999, -81.691104, -81.728611, -81.725709, null], \"y\": [39.981974, 40.152166, 40.150976, 40.222468, 40.214253, 40.171999, 40.170075, 39.95127, 39.950694, 39.921518, 39.923500000000004, 39.894549999999995, 39.897683, 39.839104, 39.842636, 39.930755999999995, 39.931728, 39.981974, null]}, {\"fill\": \"toself\", \"fillcolor\": \"rgb(44, 114, 142)\", \"hoverinfo\": \"none\", \"line\": {\"color\": \"rgb(255,255,255)\", \"width\": 0.5}, \"mode\": \"lines\", \"name\": \"29309\", \"type\": \"scatter\", \"x\": [-83.548306, -83.52022699999999, -83.248183, -83.24842799999999, -83.17233, -83.170208, -83.503714, -83.494498, -83.551338, -83.548306, null], \"y\": [40.256012, 40.504076999999995, 40.507034, 40.244465999999996, 40.244257, 40.107073, 40.111467999999995, 40.225466999999995, 40.229369999999996, 40.256012, null]}, {\"fill\": \"toself\", \"fillcolor\": \"rgb(44, 114, 142)\", \"hoverinfo\": \"none\", \"line\": {\"color\": \"rgb(255,255,255)\", \"width\": 0.5}, \"mode\": \"lines\", \"name\": \"29417\", \"type\": \"scatter\", \"x\": [-84.01033, -83.993867, -83.52003599999999, -83.551338, -84.014763, -84.01033, null], \"y\": [40.31718, 40.535174, 40.509287, 40.229369999999996, 40.273458999999995, 40.31718, null]}, {\"fill\": \"toself\", \"fillcolor\": \"rgb(38, 130, 142)\", \"hoverinfo\": \"none\", \"line\": {\"color\": \"rgb(255,255,255)\", \"width\": 0.5}, \"mode\": \"lines\", \"name\": \"31581\", \"type\": \"scatter\", \"x\": [-84.8151217305572, -84.8124110112002, -84.485367, -84.478927, -84.8151217305572, null], \"y\": [39.572948348337796, 39.916915011456894, 39.918490999999996, 39.56879, 39.572948348337796, null]}, {\"fill\": \"toself\", \"fillcolor\": \"rgb(38, 130, 142)\", \"hoverinfo\": \"none\", \"line\": {\"color\": \"rgb(255,255,255)\", \"width\": 0.5}, \"mode\": \"lines\", \"name\": \"31964\", \"type\": \"scatter\", \"x\": [-84.052499, -83.99311999999999, -83.865679, -83.872214, -83.673018, -83.7053136208764, -83.769347, -83.86653, -83.96212299999999, -84.052499, null], \"y\": [38.772467, 39.254235, 39.247333, 39.021304, 39.02043, 38.6397614234931, 38.65522, 38.760200000000005, 38.787383999999996, 38.772467, null]}, {\"fill\": \"toself\", \"fillcolor\": \"rgb(38, 130, 142)\", \"hoverinfo\": \"none\", \"line\": {\"color\": \"rgb(255,255,255)\", \"width\": 0.5}, \"mode\": \"lines\", \"name\": \"33217\", \"type\": \"scatter\", \"x\": [-82.575583, -82.455197, -82.43530899999999, -82.09546499999999, -82.14486699999999, -82.221566, -82.182467, -82.19382399999999, -82.361674, -82.354468, -82.472478, -82.48357899999999, -82.582683, -82.575583, null], \"y\": [38.844477999999995, 38.844578999999996, 39.035078999999996, 39.002778, 38.84048, 38.787186999999996, 38.708782, 38.593095999999996, 38.585181999999996, 38.676069999999996, 38.682279, 38.772278, 38.779077, 38.844477999999995, null]}, {\"fill\": \"toself\", \"fillcolor\": \"rgb(38, 130, 142)\", \"hoverinfo\": \"none\", \"line\": {\"color\": \"rgb(255,255,255)\", \"width\": 0.5}, \"mode\": \"lines\", \"name\": \"33418\", \"type\": \"scatter\", \"x\": [-83.41958199999999, -83.414626, -83.338991, -83.338196, -82.847706, -82.840087, -83.41958199999999, null], \"y\": [41.26215, 41.500228, 41.501189, 41.457508, 41.430495, 41.255337, 41.26215, null]}, {\"fill\": \"toself\", \"fillcolor\": \"rgb(38, 130, 142)\", \"hoverinfo\": \"none\", \"line\": {\"color\": \"rgb(255,255,255)\", \"width\": 0.5}, \"mode\": \"lines\", \"name\": \"34658\", \"type\": \"scatter\", \"x\": [-83.42123, -83.419843, -82.840087, -82.829512, -83.42031899999999, -83.42123, null], \"y\": [41.151585, 41.254003, 41.255337, 40.996624, 40.991889, 41.151585, null]}, {\"fill\": \"toself\", \"fillcolor\": \"rgb(33, 145, 140)\", \"hoverinfo\": \"none\", \"line\": {\"color\": \"rgb(255,255,255)\", \"width\": 0.5}, \"mode\": \"lines\", \"name\": \"36537\", \"type\": \"scatter\", \"x\": [-82.80709, -82.762892, -82.42469299999999, -82.455197, -82.76069, -82.753391, -82.80709, null], \"y\": [38.948073, 39.207967, 39.137816, 38.844578999999996, 38.854875, 38.945373, 38.948073, null]}, {\"fill\": \"toself\", \"fillcolor\": \"rgb(33, 145, 140)\", \"hoverinfo\": \"none\", \"line\": {\"color\": \"rgb(255,255,255)\", \"width\": 0.5}, \"mode\": \"lines\", \"name\": \"37240\", \"type\": \"scatter\", \"x\": [-83.881149, -83.421054, -83.42031899999999, -83.45785, -83.47674099999999, -83.51472799999999, -83.515883, -83.88006299999999, -83.881149, null], \"y\": [41.167823999999996, 41.166779999999996, 40.991889, 40.991671, 40.904964, 40.905114999999995, 40.818134, 40.819919, 41.167823999999996, null]}, {\"fill\": \"toself\", \"fillcolor\": \"rgb(33, 145, 140)\", \"hoverinfo\": \"none\", \"line\": {\"color\": \"rgb(255,255,255)\", \"width\": 0.5}, \"mode\": \"lines\", \"name\": \"37415\", \"type\": \"scatter\", \"x\": [-82.841475, -82.342314, -82.336496, -82.436916, -82.432852, -82.829512, -82.841475, null], \"y\": [41.290023, 41.283553999999995, 41.065760999999995, 41.065379, 40.992944, 40.996624, 41.290023, null]}, {\"fill\": \"toself\", \"fillcolor\": \"rgb(33, 145, 140)\", \"hoverinfo\": \"none\", \"line\": {\"color\": \"rgb(255,255,255)\", \"width\": 0.5}, \"mode\": \"lines\", \"name\": \"37922\", \"type\": \"scatter\", \"x\": [-83.420251, -83.419831, -82.858302, -82.859753, -82.95781699999999, -82.958401, -83.016785, -83.020798, -83.248595, -83.248183, -83.41837799999999, -83.420251, null], \"y\": [40.613982, 40.687278, 40.705019, 40.646395, 40.645148, 40.490663999999995, 40.484511, 40.433794999999996, 40.443988999999995, 40.507034, 40.505232, 40.613982, null]}, {\"fill\": \"toself\", \"fillcolor\": \"rgb(33, 145, 140)\", \"hoverinfo\": \"none\", \"line\": {\"color\": \"rgb(255,255,255)\", \"width\": 0.5}, \"mode\": \"lines\", \"name\": \"38125\", \"type\": \"scatter\", \"x\": [-83.264528, -83.243702, -82.824254, -82.842953, -82.731518, -82.74999799999999, -83.26673699999999, -83.264528, null], \"y\": [39.540161999999995, 39.812503, 39.794996, 39.561479999999996, 39.554445, 39.468061999999996, 39.516248999999995, 39.540161999999995, null]}, {\"fill\": \"toself\", \"fillcolor\": \"rgb(33, 145, 140)\", \"hoverinfo\": \"none\", \"line\": {\"color\": \"rgb(255,255,255)\", \"width\": 0.5}, \"mode\": \"lines\", \"name\": \"42828\", \"type\": \"scatter\", \"x\": [-82.29765599999999, -82.28041, -82.167379, -82.159161, -82.047528, -82.055779, -81.84486299999999, -81.853668, -81.818361, -81.72180999999999, -81.7255834730739, -81.7558150545194, -82.26858299999999, -82.260243, -82.29765599999999, null], \"y\": [39.3033, 39.472905999999995, 39.466307, 39.556574, 39.550824999999996, 39.460052999999995, 39.450216, 39.318165, 39.272580999999995, 39.269568, 39.2158352234561, 39.180524196556696, 39.203759999999996, 39.292915, 39.3033, null]}, {\"fill\": \"toself\", \"fillcolor\": \"rgb(31, 160, 136)\", \"hoverinfo\": \"none\", \"line\": {\"color\": \"rgb(255,255,255)\", \"width\": 0.5}, \"mode\": \"lines\", \"name\": \"43442\", \"type\": \"scatter\", \"x\": [-82.75023499999999, -82.744931, -82.646503, -82.64279599999999, -82.179069, -82.195911, -82.75023499999999, null], \"y\": [40.284087, 40.349602999999995, 40.345076, 40.550011, 40.573111999999995, 40.239070999999996, 40.284087, null]}, {\"fill\": \"toself\", \"fillcolor\": \"rgb(31, 160, 136)\", \"hoverinfo\": \"none\", \"line\": {\"color\": \"rgb(255,255,255)\", \"width\": 0.5}, \"mode\": \"lines\", \"name\": \"43652\", \"type\": \"scatter\", \"x\": [-84.003728, -83.97700499999999, -83.576286, -83.59087799999999, -83.808297, -84.006782, -84.003728, null], \"y\": [39.288471, 39.569168999999995, 39.544547, 39.378735999999996, 39.224683, 39.255068, 39.288471, null]}, {\"fill\": \"toself\", \"fillcolor\": \"rgb(31, 160, 136)\", \"hoverinfo\": \"none\", \"line\": {\"color\": \"rgb(255,255,255)\", \"width\": 0.5}, \"mode\": \"lines\", \"name\": \"43829\", \"type\": \"scatter\", \"x\": [-81.39193399999999, -81.39100499999999, -81.29588, -81.294669, -81.101422, -81.10225799999999, -81.003631, -81.00331899999999, -81.391694, -81.39193399999999, null], \"y\": [41.401852999999996, 41.569716, 41.56995, 41.640889, 41.641456999999996, 41.714307, 41.715137, 41.34786, 41.348272, 41.401852999999996, null]}, {\"fill\": \"toself\", \"fillcolor\": \"rgb(31, 160, 136)\", \"hoverinfo\": \"none\", \"line\": {\"color\": \"rgb(255,255,255)\", \"width\": 0.5}, \"mode\": \"lines\", \"name\": \"45257\", \"type\": \"scatter\", \"x\": [-83.872057, -83.865679, -83.808297, -83.59087799999999, -83.372714, -83.393694, -83.343479, -83.385637, -83.611592, -83.872057, null], \"y\": [39.023559999999996, 39.247333, 39.224683, 39.378735999999996, 39.377416, 39.267787999999996, 39.233216, 39.055197, 39.01889, 39.023559999999996, null]}, {\"fill\": \"toself\", \"fillcolor\": \"rgb(31, 160, 136)\", \"hoverinfo\": \"none\", \"line\": {\"color\": \"rgb(255,255,255)\", \"width\": 0.5}, \"mode\": \"lines\", \"name\": \"46737\", \"type\": \"scatter\", \"x\": [-82.129334, -81.647689, -81.64981999999999, -82.126199, -82.129334, null], \"y\": [40.991807, 40.988563, 40.668381, 40.668229, 40.991807, null]}, {\"fill\": \"toself\", \"fillcolor\": \"rgb(40, 174, 128)\", \"hoverinfo\": \"none\", \"line\": {\"color\": \"rgb(255,255,255)\", \"width\": 0.5}, \"mode\": \"lines\", \"name\": \"50801\", \"type\": \"scatter\", \"x\": [-81.712279, -81.709132, -81.669654, -81.668971, -81.460224, -81.317739, -81.321659, -81.264744, -81.275319, -81.33460099999999, -81.33805699999999, -81.622683, -81.61603, -81.712279, null], \"y\": [40.371097999999996, 40.444775, 40.443866, 40.632863, 40.666729, 40.651579, 40.566648, 40.565042, 40.303433999999996, 40.304316, 40.214253, 40.221308, 40.368117999999996, 40.371097999999996, null]}, {\"fill\": \"toself\", \"fillcolor\": \"rgb(40, 174, 128)\", \"hoverinfo\": \"none\", \"line\": {\"color\": \"rgb(255,255,255)\", \"width\": 0.5}, \"mode\": \"lines\", \"name\": \"51155\", \"type\": \"scatter\", \"x\": [-81.85293, -81.82315799999999, -81.70852699999999, -81.710809, -81.47347099999999, -81.47316, -81.356445, -81.26426099999999, -81.26534699999999, -81.036791, -81.03870601730101, -81.217315, -81.37596099999999, -81.456143, -81.557547, -81.570247, -81.678331, -81.700908, -81.7255834730739, -81.72180999999999, -81.818361, -81.85293, null], \"y\": [39.325373, 39.494071999999996, 39.480775, 39.585801, 39.583318, 39.645976, 39.593512, 39.605343999999995, 39.576809999999995, 39.572117999999996, 39.5400475328739, 39.387589999999996, 39.341696999999996, 39.409273999999996, 39.338774, 39.267675, 39.273755, 39.220844, 39.2158352234561, 39.269568, 39.272580999999995, 39.325373, null]}, {\"fill\": \"toself\", \"fillcolor\": \"rgb(40, 174, 128)\", \"hoverinfo\": \"none\", \"line\": {\"color\": \"rgb(255,255,255)\", \"width\": 0.5}, \"mode\": \"lines\", \"name\": \"51458\", \"type\": \"scatter\", \"x\": [-84.432717, -84.022919, -84.051039, -84.157223, -84.157671, -84.425902, -84.432717, null], \"y\": [40.188911, 40.183945, 39.879807, 39.88563, 39.92297, 39.919622, 40.188911, null]}, {\"fill\": \"toself\", \"fillcolor\": \"rgb(40, 174, 128)\", \"hoverinfo\": \"none\", \"line\": {\"color\": \"rgb(255,255,255)\", \"width\": 0.5}, \"mode\": \"lines\", \"name\": \"53885\", \"type\": \"scatter\", \"x\": [-82.81601184488581, -82.740383, -82.76389499999999, -82.706383, -82.65003899999999, -82.575583, -82.582683, -82.48357899999999, -82.472478, -82.354468, -82.361674, -82.2871015269719, -82.33033499999999, -82.549799, -82.700045, -82.81601184488581, null], \"y\": [38.5707328290844, 38.597167, 38.679974, 38.677485, 38.849073, 38.844477999999995, 38.779077, 38.772278, 38.682279, 38.676069999999996, 38.585181999999996, 38.5825881557857, 38.444500000000005, 38.403202, 38.544336, 38.5707328290844, null]}, {\"fill\": \"toself\", \"fillcolor\": \"rgb(40, 174, 128)\", \"hoverinfo\": \"none\", \"line\": {\"color\": \"rgb(255,255,255)\", \"width\": 0.5}, \"mode\": \"lines\", \"name\": \"54568\", \"type\": \"scatter\", \"x\": [-82.73570699999999, -82.718802, -82.67328499999999, -82.688744, -82.73570699999999, null, -82.903689, -82.82645, -82.754671, -82.700717, -82.4919, -82.3480736835418, -82.342314, -82.841475, -82.847706, -82.903689, null], \"y\": [41.603361, 41.619628999999996, 41.624158, 41.585896, 41.603361, null, 41.430575999999995, 41.473558, 41.443988999999995, 41.464296999999995, 41.381074999999996, 41.428389196148096, 41.283553999999995, 41.290023, 41.430495, 41.430575999999995, null]}, {\"fill\": \"toself\", \"fillcolor\": \"rgb(63, 188, 115)\", \"hoverinfo\": \"none\", \"line\": {\"color\": \"rgb(255,255,255)\", \"width\": 0.5}, \"mode\": \"lines\", \"name\": \"54871\", \"type\": \"scatter\", \"x\": [-84.397374, -84.34010099999999, -84.340531, -84.109586, -84.109516, -83.880423, -83.880194, -84.396778, -84.397374, null], \"y\": [40.815940999999995, 40.816143, 40.859099, 40.860994, 40.90473, 40.920429, 40.64469, 40.684926, 40.815940999999995, null]}, {\"fill\": \"toself\", \"fillcolor\": \"rgb(63, 188, 115)\", \"hoverinfo\": \"none\", \"line\": {\"color\": \"rgb(255,255,255)\", \"width\": 0.5}, \"mode\": \"lines\", \"name\": \"59146\", \"type\": \"scatter\", \"x\": [-80.94077899999999, -80.92092, -80.863567, -80.861994, -80.667957, -80.627507, -80.594794, -80.633596, -80.59989499999999, -80.7029242071106, -80.882892, -80.865504, -80.94191099999999, -80.94077899999999, null], \"y\": [40.447451, 40.556315, 40.555411, 40.599404, 40.582496, 40.535793, 40.471365999999996, 40.390467, 40.317668999999995, 40.1572566856078, 40.159495, 40.422928999999996, 40.4247, 40.447451, null]}, {\"fill\": \"toself\", \"fillcolor\": \"rgb(63, 188, 115)\", \"hoverinfo\": \"none\", \"line\": {\"color\": \"rgb(255,255,255)\", \"width\": 0.5}, \"mode\": \"lines\", \"name\": \"60038\", \"type\": \"scatter\", \"x\": [-83.8835, -83.883234, -83.748137, -83.699736, -83.56993399999999, -83.415919, -83.421054, -83.881149, -83.8835, null], \"y\": [41.357119999999995, 41.414502999999996, 41.465852, 41.533952, 41.617149999999995, 41.618938, 41.166779999999996, 41.167823999999996, 41.357119999999995, null]}, {\"fill\": \"toself\", \"fillcolor\": \"rgb(63, 188, 115)\", \"hoverinfo\": \"none\", \"line\": {\"color\": \"rgb(255,255,255)\", \"width\": 0.5}, \"mode\": \"lines\", \"name\": \"66993\", \"type\": \"scatter\", \"x\": [-81.234297, -81.225811, -80.7029242071106, -80.75643199999999, -80.806018, -80.790761, -80.82127899999999, -81.23731599999999, -81.234297, null], \"y\": [39.949014999999996, 40.172694, 40.1572566856078, 39.91393, 39.91713, 39.86728, 39.849982, 39.867827999999996, 39.949014999999996, null]}, {\"fill\": \"toself\", \"fillcolor\": \"rgb(63, 188, 115)\", \"hoverinfo\": \"none\", \"line\": {\"color\": \"rgb(255,255,255)\", \"width\": 0.5}, \"mode\": \"lines\", \"name\": \"69623\", \"type\": \"scatter\", \"x\": [-83.39400499999999, -83.374577, -83.26673699999999, -82.740729, -82.76669199999999, -83.35353099999999, -83.345073, -83.39400499999999, null], \"y\": [39.272591999999996, 39.37484, 39.516248999999995, 39.46835, 39.167767999999995, 39.197585, 39.250734, 39.272591999999996, null]}, {\"fill\": \"toself\", \"fillcolor\": \"rgb(94, 201, 98)\", \"hoverinfo\": \"none\", \"line\": {\"color\": \"rgb(255,255,255)\", \"width\": 0.5}, \"mode\": \"lines\", \"name\": \"71026\", \"type\": \"scatter\", \"x\": [-82.72694899999999, -82.724792, -82.4179, -82.420752, -82.378953, -82.37839699999999, -82.33921099999999, -82.336962, -82.623609, -82.627191, -82.727164, -82.72694899999999, null], \"y\": [40.738592, 40.995638, 40.992937999999995, 40.82333, 40.787227, 40.727145, 40.726683, 40.555001, 40.549879, 40.709416, 40.711203, 40.738592, null]}, {\"fill\": \"toself\", \"fillcolor\": \"rgb(94, 201, 98)\", \"hoverinfo\": \"none\", \"line\": {\"color\": \"rgb(255,255,255)\", \"width\": 0.5}, \"mode\": \"lines\", \"name\": \"74469\", \"type\": \"scatter\", \"x\": [-81.004763, -81.00217573236529, -80.519425, -80.51922499999999, -81.003125, -81.004763, null], \"y\": [41.726436, 41.8531568842684, 41.977523, 41.499924, 41.501684999999995, 41.726436, null]}, {\"fill\": \"toself\", \"fillcolor\": \"rgb(94, 201, 98)\", \"hoverinfo\": \"none\", \"line\": {\"color\": \"rgb(255,255,255)\", \"width\": 0.5}, \"mode\": \"lines\", \"name\": \"76652\", \"type\": \"scatter\", \"x\": [-82.233735, -82.231695, -82.19877199999999, -82.187105, -81.71627699999999, -81.728611, -81.691104, -81.697442, -82.076639, -82.07293399999999, -82.170047, -82.16237199999999, -82.233735, null], \"y\": [39.920577, 39.951074999999996, 39.95014, 40.16688, 40.152854, 39.931728, 39.930755999999995, 39.755572, 39.770959999999995, 39.816227, 39.82075, 39.909374, 39.920577, null]}, {\"fill\": \"toself\", \"fillcolor\": \"rgb(94, 201, 98)\", \"hoverinfo\": \"none\", \"line\": {\"color\": \"rgb(255,255,255)\", \"width\": 0.5}, \"mode\": \"lines\", \"name\": \"77020\", \"type\": \"scatter\", \"x\": [-81.087391, -81.08667899999999, -80.89603199999999, -80.891285, -80.821635, -80.821923, -80.51977742323069, -80.518991, -80.62717099999999, -80.667957, -80.861994, -80.860822, -80.918125, -80.917172, -81.087391, null], \"y\": [40.729442999999996, 40.901609, 40.900994999999995, 40.9302, 40.929775, 40.900935, 40.9003241991296, 40.638801, 40.619935999999996, 40.582496, 40.599404, 40.64257, 40.643464, 40.726934, 40.729442999999996, null]}, {\"fill\": \"toself\", \"fillcolor\": \"rgb(94, 201, 98)\", \"hoverinfo\": \"none\", \"line\": {\"color\": \"rgb(255,255,255)\", \"width\": 0.5}, \"mode\": \"lines\", \"name\": \"77677\", \"type\": \"scatter\", \"x\": [-83.270817, -83.21525199999999, -83.212107, -82.753391, -82.76069, -82.65003899999999, -82.706383, -82.76389499999999, -82.740383, -82.81601184488581, -82.844306, -82.894193, -83.03070199999999, -83.142836, -83.268245, -83.270817, null], \"y\": [39.015791, 38.991921999999995, 38.960148, 38.945373, 38.854875, 38.849073, 38.677485, 38.679974, 38.597167, 38.5707328290844, 38.590862, 38.756575999999995, 38.725719999999995, 38.625076, 38.618528999999995, 39.015791, null]}, {\"fill\": \"toself\", \"fillcolor\": \"rgb(132, 212, 75)\", \"hoverinfo\": \"none\", \"line\": {\"color\": \"rgb(255,255,255)\", \"width\": 0.5}, \"mode\": \"lines\", \"name\": \"80933\", \"type\": \"scatter\", \"x\": [-81.393282, -81.391694, -81.003191, -81.001695, -81.393249, -81.393282, null], \"y\": [41.025435, 41.348272, 41.347859, 40.987783, 40.988530999999995, 41.025435, null]}, {\"fill\": \"toself\", \"fillcolor\": \"rgb(132, 212, 75)\", \"hoverinfo\": \"none\", \"line\": {\"color\": \"rgb(255,255,255)\", \"width\": 0.5}, \"mode\": \"lines\", \"name\": \"83297\", \"type\": \"scatter\", \"x\": [-82.781809, -82.75074699999999, -82.182823, -82.19877199999999, -82.231695, -82.23397399999999, -82.781809, null], \"y\": [39.946981, 40.276996, 40.238624, 39.95014, 39.951074999999996, 39.91326, 39.946981, null]}, {\"fill\": \"toself\", \"fillcolor\": \"rgb(132, 212, 75)\", \"hoverinfo\": \"none\", \"line\": {\"color\": \"rgb(255,255,255)\", \"width\": 0.5}, \"mode\": \"lines\", \"name\": \"90699\", \"type\": \"scatter\", \"x\": [-82.841537, -82.810797, -82.462813, -82.472402, -82.396594, -82.37453099999999, -82.490329, -82.496123, -82.61754599999999, -82.620088, -82.841537, null], \"y\": [39.576122999999995, 39.941162, 39.93038, 39.837223, 39.833057, 39.654959, 39.661704, 39.602849, 39.608605, 39.563987, 39.576122999999995, null]}, {\"fill\": \"toself\", \"fillcolor\": \"rgb(132, 212, 75)\", \"hoverinfo\": \"none\", \"line\": {\"color\": \"rgb(255,255,255)\", \"width\": 0.5}, \"mode\": \"lines\", \"name\": \"90748\", \"type\": \"scatter\", \"x\": [-84.052257, -84.036069, -83.50993299999999, -83.58804099999999, -83.829495, -83.827439, -84.052257, null], \"y\": [39.865292, 40.040182, 40.009910999999995, 39.768778, 39.797851, 39.822562999999995, 39.865292, null]}, {\"fill\": \"toself\", \"fillcolor\": \"rgb(132, 212, 75)\", \"hoverinfo\": \"none\", \"line\": {\"color\": \"rgb(255,255,255)\", \"width\": 0.5}, \"mode\": \"lines\", \"name\": \"91200\", \"type\": \"scatter\", \"x\": [-82.171492, -82.16987499999999, -82.074266, -82.072465, -81.973895, -81.97248499999999, -81.68495, -81.688491, -82.17335899999999, -82.171492, null], \"y\": [41.063537, 41.137097, 41.136455999999995, 41.19985, 41.199830999999996, 41.274829, 41.277145999999995, 40.988589999999995, 40.992081999999996, 41.063537, null]}, {\"fill\": \"toself\", \"fillcolor\": \"rgb(173, 220, 48)\", \"hoverinfo\": \"none\", \"line\": {\"color\": \"rgb(255,255,255)\", \"width\": 0.5}, \"mode\": \"lines\", \"name\": \"99407\", \"type\": \"scatter\", \"x\": [-84.11374699999999, -84.09293799999999, -83.939583, -83.64661, -83.67019599999999, -84.11374699999999, null], \"y\": [39.5845, 39.838345, 39.843796999999995, 39.775996, 39.550253999999995, 39.5845, null]}, {\"fill\": \"toself\", \"fillcolor\": \"rgb(173, 220, 48)\", \"hoverinfo\": \"none\", \"line\": {\"color\": \"rgb(255,255,255)\", \"width\": 0.5}, \"mode\": \"lines\", \"name\": \"103721\", \"type\": \"scatter\", \"x\": [-83.249406, -83.248595, -83.020798, -82.924781, -82.929588, -82.744931, -82.761827, -83.16998099999999, -83.17233, -83.24842799999999, -83.249406, null], \"y\": [40.315768, 40.443988999999995, 40.433794999999996, 40.415003999999996, 40.358123, 40.349602999999995, 40.125855, 40.143087, 40.244257, 40.244465999999996, 40.315768, null]}, {\"fill\": \"toself\", \"fillcolor\": \"rgb(173, 220, 48)\", \"hoverinfo\": \"none\", \"line\": {\"color\": \"rgb(255,255,255)\", \"width\": 0.5}, \"mode\": \"lines\", \"name\": \"130965\", \"type\": \"scatter\", \"x\": [-81.488923, -81.284129, -81.00217573236529, -81.003631, -81.10225799999999, -81.101422, -81.294669, -81.29588, -81.487842, -81.488923, null], \"y\": [41.626757, 41.763518999999995, 41.8531568842684, 41.715137, 41.714307, 41.641456999999996, 41.640889, 41.56995, 41.570051, 41.626757, null]}, {\"fill\": \"toself\", \"fillcolor\": \"rgb(173, 220, 48)\", \"hoverinfo\": \"none\", \"line\": {\"color\": \"rgb(255,255,255)\", \"width\": 0.5}, \"mode\": \"lines\", \"name\": \"139933\", \"type\": \"scatter\", \"x\": [-84.36523199999999, -83.97700499999999, -84.006782, -84.35320899999999, -84.332089, -84.364736, -84.36523199999999, null], \"y\": [39.589493, 39.569168999999995, 39.255068, 39.292287, 39.548803, 39.543842999999995, 39.589493, null]}, {\"fill\": \"toself\", \"fillcolor\": \"rgb(173, 220, 48)\", \"hoverinfo\": \"none\", \"line\": {\"color\": \"rgb(255,255,255)\", \"width\": 0.5}, \"mode\": \"lines\", \"name\": \"147868\", \"type\": \"scatter\", \"x\": [-82.3480736835418, -81.995746, -81.9682773665318, -81.971262, -81.87696, -81.878053, -81.97248499999999, -81.973895, -82.072465, -82.074266, -82.16987499999999, -82.171492, -82.336496, -82.3480736835418, null], \"y\": [41.428389196148096, 41.514475, 41.5052648033532, 41.351268, 41.350685, 41.275044, 41.274829, 41.199830999999996, 41.19985, 41.136455999999995, 41.137097, 41.063537, 41.065760999999995, 41.428389196148096, null]}, {\"fill\": \"toself\", \"fillcolor\": \"rgb(216, 226, 25)\", \"hoverinfo\": \"none\", \"line\": {\"color\": \"rgb(255,255,255)\", \"width\": 0.5}, \"mode\": \"lines\", \"name\": \"173202\", \"type\": \"scatter\", \"x\": [-84.320028, -84.25943099999999, -83.99311999999999, -84.052684882421, -84.2253, -84.234453, -84.3199364709232, -84.276286, -84.320028, null], \"y\": [39.223433, 39.270796, 39.254235, 38.7713751994327, 38.817665, 38.893226, 39.02208095553439, 39.200927, 39.223433, null]}, {\"fill\": \"toself\", \"fillcolor\": \"rgb(216, 226, 25)\", \"hoverinfo\": \"none\", \"line\": {\"color\": \"rgb(255,255,255)\", \"width\": 0.5}, \"mode\": \"lines\", \"name\": \"191452\", \"type\": \"scatter\", \"x\": [-81.08671199999999, -81.08631199999999, -81.001695, -81.00229, -80.5191668077946, -80.51977742323069, -80.821923, -80.821635, -80.891285, -80.89603199999999, -81.08667899999999, -81.08671199999999, null], \"y\": [40.930402, 40.988031, 40.987783, 41.134189, 41.133388009323596, 40.9003241991296, 40.900935, 40.929775, 40.9302, 40.900994999999995, 40.901609, 40.930402, null]}, {\"fill\": \"toself\", \"fillcolor\": \"rgb(216, 226, 25)\", \"hoverinfo\": \"none\", \"line\": {\"color\": \"rgb(255,255,255)\", \"width\": 0.5}, \"mode\": \"lines\", \"name\": \"191545\", \"type\": \"scatter\", \"x\": [-81.003311, -81.003125, -80.51922499999999, -80.5191668077946, -81.00229, -81.003311, null], \"y\": [41.462814, 41.501684999999995, 41.499924, 41.133388009323596, 41.134189, 41.462814, null]}, {\"fill\": \"toself\", \"fillcolor\": \"rgb(216, 226, 25)\", \"hoverinfo\": \"none\", \"line\": {\"color\": \"rgb(255,255,255)\", \"width\": 0.5}, \"mode\": \"lines\", \"name\": \"238929\", \"type\": \"scatter\", \"x\": [-81.64984799999999, -81.647735, -81.420418, -81.41633399999999, -81.08631199999999, -81.087289, -81.23722699999999, -81.24125, -81.460224, -81.649199, -81.64984799999999, null], \"y\": [40.6646, 40.914016, 40.906504, 40.988456, 40.988031, 40.727816, 40.723541999999995, 40.650534, 40.666729, 40.635106, 40.6646, null]}, {\"fill\": \"toself\", \"fillcolor\": \"rgb(216, 226, 25)\", \"hoverinfo\": \"none\", \"line\": {\"color\": \"rgb(255,255,255)\", \"width\": 0.5}, \"mode\": \"lines\", \"name\": \"289521\", \"type\": \"scatter\", \"x\": [-84.819352, -84.8150361906572, -84.365242, -84.364736, -84.332089, -84.35320899999999, -84.819352, null], \"y\": [39.309453999999995, 39.5676953269799, 39.589855, 39.543842999999995, 39.548803, 39.292287, 39.309453999999995, null]}, {\"fill\": \"toself\", \"fillcolor\": \"rgb(253, 231, 37)\", \"hoverinfo\": \"none\", \"line\": {\"color\": \"rgb(255,255,255)\", \"width\": 0.5}, \"mode\": \"lines\", \"name\": \"319219\", \"type\": \"scatter\", \"x\": [-83.110613, -83.105003, -83.100995, -83.105837, -83.110613, null, -83.88300000000001, -83.8803872265963, -83.45383199999999, -83.472489, -83.33560899999999, -83.1657126966893, -83.56993399999999, -83.699736, -83.748137, -83.85434, -83.88300000000001, null], \"y\": [41.737752, 41.742728, 41.741341, 41.736495999999995, 41.737752, null, 41.441145, 41.7200894495242, 41.732647, 41.693008999999996, 41.706022, 41.623245528659595, 41.617149999999995, 41.533952, 41.465852, 41.414445, 41.441145, null]}, {\"fill\": \"toself\", \"fillcolor\": \"rgb(253, 231, 37)\", \"hoverinfo\": \"none\", \"line\": {\"color\": \"rgb(255,255,255)\", \"width\": 0.5}, \"mode\": \"lines\", \"name\": \"339740\", \"type\": \"scatter\", \"x\": [-81.688154, -81.68495, -81.56218299999999, -81.598052, -81.391694, -81.393249, -81.41633399999999, -81.420418, -81.647735, -81.647689, -81.688154, null], \"y\": [41.004144, 41.277145999999995, 41.279316, 41.351157, 41.348272, 40.988530999999995, 40.988456, 40.906504, 40.914016, 40.988563, 41.004144, null]}, {\"fill\": \"toself\", \"fillcolor\": \"rgb(253, 231, 37)\", \"hoverinfo\": \"none\", \"line\": {\"color\": \"rgb(255,255,255)\", \"width\": 0.5}, \"mode\": \"lines\", \"name\": \"391859\", \"type\": \"scatter\", \"x\": [-84.485367, -84.157671, -84.157223, -84.051039, -84.055238, -84.09293799999999, -84.114195, -84.479213, -84.485367, null], \"y\": [39.918490999999996, 39.92297, 39.88563, 39.879807, 39.835958, 39.838345, 39.577982999999996, 39.591024, 39.918490999999996, null]}, {\"fill\": \"toself\", \"fillcolor\": \"rgb(253, 231, 37)\", \"hoverinfo\": \"none\", \"line\": {\"color\": \"rgb(255,255,255)\", \"width\": 0.5}, \"mode\": \"lines\", \"name\": \"572388\", \"type\": \"scatter\", \"x\": [-81.97086399999999, -81.9682773665318, -81.738755, -81.48863999999999, -81.487842, -81.39100499999999, -81.391694, -81.598052, -81.565139, -81.878053, -81.87696, -81.971262, -81.97086399999999, null], \"y\": [41.375375999999996, 41.5052648033532, 41.48855, 41.631347999999996, 41.570051, 41.569716, 41.348272, 41.351157, 41.277758, 41.275044, 41.350685, 41.351268, 41.375375999999996, null]}, {\"fill\": \"toself\", \"fillcolor\": \"rgb(253, 231, 37)\", \"hoverinfo\": \"none\", \"line\": {\"color\": \"rgb(255,255,255)\", \"width\": 0.5}, \"mode\": \"lines\", \"name\": \"578019\", \"type\": \"scatter\", \"x\": [-84.82015899999999, -84.81945096866738, -84.256506, -84.320028, -84.276286, -84.3199364709232, -84.42573, -84.462042, -84.607928, -84.744149, -84.820157, -84.82015899999999, null], \"y\": [39.227225, 39.305153361544896, 39.27642, 39.223433, 39.200927, 39.02208095553439, 39.053059, 39.121759999999995, 39.073237999999996, 39.147458, 39.10548, 39.227225, null]}, {\"fill\": \"toself\", \"fillcolor\": \"rgb(253, 231, 37)\", \"hoverinfo\": \"none\", \"line\": {\"color\": \"rgb(255,255,255)\", \"width\": 0.5}, \"mode\": \"lines\", \"name\": \"784051\", \"type\": \"scatter\", \"x\": [-83.260877, -83.255051, -83.21219599999999, -83.16998099999999, -82.761827, -82.824254, -83.243702, -83.252031, -83.22564299999999, -83.260877, null], \"y\": [40.002807, 40.048614, 40.048069, 40.143087, 40.125855, 39.794996, 39.812503, 39.917363, 39.932262, 40.002807, null]}, {\"hoverinfo\": \"text\", \"legendgroup\": \"centroids\", \"marker\": {\"color\": \"white\", \"opacity\": 0}, \"mode\": \"markers\", \"name\": \"US Counties\", \"selected\": {\"marker\": {\"color\": \"white\", \"opacity\": 1, \"size\": 3}}, \"showlegend\": false, \"text\": [\"County: Ottawa<br>State: Ohio<br>FIPS: 39123<br>Value: 24827\", \"County: Ottawa<br>State: Ohio<br>FIPS: 39123<br>Value: 24827\", \"County: Ottawa<br>State: Ohio<br>FIPS: 39123<br>Value: 24827\", \"County: Ottawa<br>State: Ohio<br>FIPS: 39123<br>Value: 24827\", \"County: Ottawa<br>State: Ohio<br>FIPS: 39123<br>Value: 24827\", \"County: Ottawa<br>State: Ohio<br>FIPS: 39123<br>Value: 24827\", \"County: Ottawa<br>State: Ohio<br>FIPS: 39123<br>Value: 24827\", \"County: Ottawa<br>State: Ohio<br>FIPS: 39123<br>Value: 24827\", \"County: Ottawa<br>State: Ohio<br>FIPS: 39123<br>Value: 24827\", \"County: Ottawa<br>State: Ohio<br>FIPS: 39123<br>Value: 24827\", \"County: Lucas<br>State: Ohio<br>FIPS: 39095<br>Value: 319219\", \"County: Lucas<br>State: Ohio<br>FIPS: 39095<br>Value: 319219\", \"County: Erie<br>State: Ohio<br>FIPS: 39043<br>Value: 54568\", \"County: Erie<br>State: Ohio<br>FIPS: 39043<br>Value: 54568\", \"County: Adams<br>State: Ohio<br>FIPS: 39001<br>Value: 27230\", \"County: Allen<br>State: Ohio<br>FIPS: 39003<br>Value: 54871\", \"County: Ashland<br>State: Ohio<br>FIPS: 39005<br>Value: 17319\", \"County: Ashtabula<br>State: Ohio<br>FIPS: 39007<br>Value: 74469\", \"County: Athens<br>State: Ohio<br>FIPS: 39009<br>Value: 42828\", \"County: Auglaize<br>State: Ohio<br>FIPS: 39011<br>Value: 22672\", \"County: Belmont<br>State: Ohio<br>FIPS: 39013<br>Value: 66993\", \"County: Brown<br>State: Ohio<br>FIPS: 39015<br>Value: 31964\", \"County: Butler<br>State: Ohio<br>FIPS: 39017<br>Value: 289521\", \"County: Carroll<br>State: Ohio<br>FIPS: 39019<br>Value: 7840\", \"County: Champaign<br>State: Ohio<br>FIPS: 39021<br>Value: 22324\", \"County: Clark<br>State: Ohio<br>FIPS: 39023<br>Value: 90748\", \"County: Clermont<br>State: Ohio<br>FIPS: 39025<br>Value: 173202\", \"County: Clinton<br>State: Ohio<br>FIPS: 39027<br>Value: 43652\", \"County: Columbiana<br>State: Ohio<br>FIPS: 39029<br>Value: 77020\", \"County: Coshocton<br>State: Ohio<br>FIPS: 39031<br>Value: 16416\", \"County: Crawford<br>State: Ohio<br>FIPS: 39033<br>Value: 27013\", \"County: Cuyahoga<br>State: Ohio<br>FIPS: 39035<br>Value: 572388\", \"County: Darke<br>State: Ohio<br>FIPS: 39037<br>Value: 23200\", \"County: Defiance<br>State: Ohio<br>FIPS: 39039<br>Value: 22186\", \"County: Delaware<br>State: Ohio<br>FIPS: 39041<br>Value: 103721\", \"County: Fairfield<br>State: Ohio<br>FIPS: 39045<br>Value: 90699\", \"County: Fayette<br>State: Ohio<br>FIPS: 39047<br>Value: 21878\", \"County: Franklin<br>State: Ohio<br>FIPS: 39049<br>Value: 784051\", \"County: Fulton<br>State: Ohio<br>FIPS: 39051<br>Value: 22632\", \"County: Gallia<br>State: Ohio<br>FIPS: 39053<br>Value: 33217\", \"County: Geauga<br>State: Ohio<br>FIPS: 39055<br>Value: 43829\", \"County: Greene<br>State: Ohio<br>FIPS: 39057<br>Value: 99407\", \"County: Guernsey<br>State: Ohio<br>FIPS: 39059<br>Value: 28013\", \"County: Hamilton<br>State: Ohio<br>FIPS: 39061<br>Value: 578019\", \"County: Hancock<br>State: Ohio<br>FIPS: 39063<br>Value: 37240\", \"County: Hardin<br>State: Ohio<br>FIPS: 39065<br>Value: 20718\", \"County: Harrison<br>State: Ohio<br>FIPS: 39067<br>Value: 6739\", \"County: Henry<br>State: Ohio<br>FIPS: 39069<br>Value: 9954\", \"County: Highland<br>State: Ohio<br>FIPS: 39071<br>Value: 45257\", \"County: Hocking<br>State: Ohio<br>FIPS: 39073<br>Value: 19387\", \"County: Holmes<br>State: Ohio<br>FIPS: 39075<br>Value: 7754\", \"County: Huron<br>State: Ohio<br>FIPS: 39077<br>Value: 37415\", \"County: Jackson<br>State: Ohio<br>FIPS: 39079<br>Value: 36537\", \"County: Jefferson<br>State: Ohio<br>FIPS: 39081<br>Value: 59146\", \"County: Knox<br>State: Ohio<br>FIPS: 39083<br>Value: 43442\", \"County: Lake<br>State: Ohio<br>FIPS: 39085<br>Value: 130965\", \"County: Lawrence<br>State: Ohio<br>FIPS: 39087<br>Value: 53885\", \"County: Licking<br>State: Ohio<br>FIPS: 39089<br>Value: 83297\", \"County: Logan<br>State: Ohio<br>FIPS: 39091<br>Value: 29417\", \"County: Lorain<br>State: Ohio<br>FIPS: 39093<br>Value: 147868\", \"County: Madison<br>State: Ohio<br>FIPS: 39097<br>Value: 27317\", \"County: Mahoning<br>State: Ohio<br>FIPS: 39099<br>Value: 191452\", \"County: Marion<br>State: Ohio<br>FIPS: 39101<br>Value: 37922\", \"County: Medina<br>State: Ohio<br>FIPS: 39103<br>Value: 91200\", \"County: Meigs<br>State: Ohio<br>FIPS: 39105<br>Value: 17743\", \"County: Mercer<br>State: Ohio<br>FIPS: 39107<br>Value: 13735\", \"County: Miami<br>State: Ohio<br>FIPS: 39109<br>Value: 51458\", \"County: Monroe<br>State: Ohio<br>FIPS: 39111<br>Value: 6165\", \"County: Montgomery<br>State: Ohio<br>FIPS: 39113<br>Value: 391859\", \"County: Morgan<br>State: Ohio<br>FIPS: 39115<br>Value: 5511\", \"County: Morrow<br>State: Ohio<br>FIPS: 39117<br>Value: 13289\", \"County: Muskingum<br>State: Ohio<br>FIPS: 39119<br>Value: 76652\", \"County: Noble<br>State: Ohio<br>FIPS: 39121<br>Value: 9329\", \"County: Paulding<br>State: Ohio<br>FIPS: 39125<br>Value: 7138\", \"County: Perry<br>State: Ohio<br>FIPS: 39127<br>Value: 27793\", \"County: Pickaway<br>State: Ohio<br>FIPS: 39129<br>Value: 38125\", \"County: Pike<br>State: Ohio<br>FIPS: 39131<br>Value: 24515\", \"County: Portage<br>State: Ohio<br>FIPS: 39133<br>Value: 80933\", \"County: Preble<br>State: Ohio<br>FIPS: 39135<br>Value: 31581\", \"County: Putnam<br>State: Ohio<br>FIPS: 39137<br>Value: 16672\", \"County: Richland<br>State: Ohio<br>FIPS: 39139<br>Value: 71026\", \"County: Ross<br>State: Ohio<br>FIPS: 39141<br>Value: 69623\", \"County: Sandusky<br>State: Ohio<br>FIPS: 39143<br>Value: 33418\", \"County: Scioto<br>State: Ohio<br>FIPS: 39145<br>Value: 77677\", \"County: Seneca<br>State: Ohio<br>FIPS: 39147<br>Value: 34658\", \"County: Shelby<br>State: Ohio<br>FIPS: 39149<br>Value: 23220\", \"County: Stark<br>State: Ohio<br>FIPS: 39151<br>Value: 238929\", \"County: Summit<br>State: Ohio<br>FIPS: 39153<br>Value: 339740\", \"County: Trumbull<br>State: Ohio<br>FIPS: 39155<br>Value: 191545\", \"County: Tuscarawas<br>State: Ohio<br>FIPS: 39157<br>Value: 50801\", \"County: Union<br>State: Ohio<br>FIPS: 39159<br>Value: 29309\", \"County: Van Wert<br>State: Ohio<br>FIPS: 39161<br>Value: 15133\", \"County: Vinton<br>State: Ohio<br>FIPS: 39163<br>Value: 3704\", \"County: Warren<br>State: Ohio<br>FIPS: 39165<br>Value: 139933\", \"County: Washington<br>State: Ohio<br>FIPS: 39167<br>Value: 51155\", \"County: Wayne<br>State: Ohio<br>FIPS: 39169<br>Value: 46737\", \"County: Williams<br>State: Ohio<br>FIPS: 39171<br>Value: 18019\", \"County: Wood<br>State: Ohio<br>FIPS: 39173<br>Value: 60038\", \"County: Wyandot<br>State: Ohio<br>FIPS: 39175<br>Value: 9983\"], \"type\": \"scatter\", \"unselected\": {\"marker\": {\"opacity\": 0}}, \"x\": [[-82.73551361644729], [-82.7858609980333], [-82.80846495153472], [-82.82640015113581], [-82.83261988511035], [-82.82099217822797], [-82.823399306542], [-82.85004181056493], [-82.86522124201454], [-83.1480449069557], [-83.10553831915605], [-83.65846114972993], [-82.70290763364788], [-82.61760373704256], -83.47202950312078, -84.10579177506926, -82.2706884278123, -80.74831573509688, -82.04520600045566, -84.22172893099429, -80.98846096166153, -83.86743752015937, -84.57557167665772, -81.08971693243667, -83.76949597353912, -83.78390756018914, -84.15184923189116, -83.80836877638806, -80.77719635775085, -81.92002224682965, -82.91977712566288, -81.65864322187386, -84.61940240404408, -84.49047409093997, -83.00487074334198, -82.63058115301737, -83.45608722005603, -83.00929587555324, -84.13008154941774, -82.31693053818816, -81.17866279938559, -83.88988988898087, -81.49425427653269, -84.54277567185372, -83.66653898539079, -83.65942528311409, -81.09111751365575, -84.0682313962346, -83.60098303760607, -82.47925872519518, -81.92933734153581, -82.59840619490465, -82.61841764285188, -80.76099725099716, -82.42151734663707, -81.23734278310225, -82.53677866064359, -82.48310151903328, -83.76584791370175, -82.15116242689474, -83.40020224217295, -80.77630524744328, -83.16087325485464, -81.8996925065707, -82.02286627151693, -84.62937243101732, -84.22884712471537, -81.08292522051066, -84.29067929292808, -81.8526612867485, -82.79407279852765, -81.94437180136498, -81.4555490384169, -84.58020989591117, -82.23612372069944, -83.02439175930289, -83.0667654700886, -81.19740128646855, -84.6479798051693, -84.13172734467774, -82.53649778893266, -83.05702253582037, -83.1461789090077, -82.99282686408726, -83.12769020343042, -84.20474788811721, -81.36562132878191, -81.5321665398456, -80.761134361093, -81.47375603040776, -83.37156686631654, -84.58611591198941, -82.4853428994153, -84.16676632210199, -81.49528666110993, -81.88802885921754, -84.58815821399332, -83.62300006249806, -83.30437609717085], \"y\": [[41.49604254441998], [41.67798439445128], [41.6850315353041], [41.69214506826122], [41.59128773373454], [41.7148695504141], [41.64843672046651], [41.67949525101045], [41.64542785079097], [41.53545286963775], [41.73953672784247], [41.61986834760031], [41.60333917326525], [41.35888189289056], 38.84561547976712, 40.771539804791196, 40.84601280416545, 41.707540735274776, 39.333889033136934, 40.56091796413162, 40.01583748530738, 38.93403315266478, 39.438626748509655, 40.57957772735439, 40.13767523086846, 39.91677672499383, 39.04746293779344, 39.4149820241588, 40.76842513672262, 40.30166758897734, 40.85076915505679, 41.42447380272998, 40.133268559308966, 41.32391596642378, 40.2783971889831, 39.75162985223046, 39.5598756713745, 39.96954240689405, 41.6018162453333, 38.824728788210166, 41.49952524420099, 39.69146413858033, 40.0520365061085, 39.195538779333006, 41.00192168271409, 40.66151714051498, 40.29383104883707, 41.33387699554244, 39.184714497177055, 39.497064179789525, 40.56120816341799, 41.14615234567684, 39.0196571397546, 40.385010748569215, 40.39875925316023, 41.69656006685816, 38.59841852014224, 40.09160691461981, 40.388460529009336, 41.29561080625006, 39.8940171284124, 41.014644619173374, 40.58718691580248, 41.11759544894231, 39.082226176544694, 40.53994712156752, 40.05346398554946, 39.72735638318527, 39.75457809362605, 39.62035651088074, 40.524081762049775, 39.96542671177307, 39.765962446450374, 41.11662437433795, 39.737124690172934, 39.6419270335763, 39.077319409195745, 41.16767273793184, 39.74152618169773, 41.022121452976315, 40.77465522353133, 39.337593609865785, 41.356316930635934, 38.80399880562164, 41.12387630177271, 40.33155395736446, 40.81388614568594, 41.12597576235815, 41.31718193246045, 40.440939801780495, 40.29941070376852, 40.855407383576896, 39.25097320514843, 39.427561910387276, 39.45531644040523, 40.82887486563992, 41.56031437974919, 41.36168097676365, 40.842379217894276]}, {\"hoverinfo\": \"text\", \"legendgroup\": \"States\", \"line\": {\"color\": \"rgb(240, 240, 240)\", \"width\": 1}, \"mode\": \"lines\", \"showlegend\": false, \"type\": \"scatter\", \"x\": [-82.73570699999999, -82.718802, -82.67328499999999, -82.688744, -82.73570699999999, null, -82.742311, -82.733279, -82.72733699999999, -82.737082, -82.742311, null, -82.78801, -82.785403, -82.78387, -82.786688, -82.78801, null, -82.826443, -82.812805, -82.779938, -82.808624, -82.826443, null, -82.830349, -82.826111, -82.8225, -82.82964299999999, -82.830349, null, -82.83453899999999, -82.831366, -82.83053799999999, -82.834041, -82.83453899999999, null, -82.835577, -82.82571999999999, -82.810487, -82.808869, -82.835577, null, -82.84385, -82.834092, -82.793069, -82.834662, -82.84385, null, -82.85657499999999, -82.847966, -82.844473, -82.84881899999999, -82.85657499999999, null, -82.867874, -82.863276, -82.862065, -82.86833, -82.867874, null, -83.110613, -83.105003, -83.100995, -83.105837, -83.110613, null, -84.82015899999999, -84.805972, -83.45383199999999, -83.472489, -83.33560899999999, -82.93436899999999, -82.87522899999999, -82.83410099999999, -82.785496, -82.71093499999999, -82.714237, -82.746352, -82.959042, -83.038198, -83.00957, -82.977096, -82.92318499999999, -82.811714, -82.754671, -82.664586, -82.481214, -82.011966, -81.738755, -81.284129, -80.519425, -80.518991, -80.62717099999999, -80.667957, -80.595494, -80.633596, -80.59989499999999, -80.738604, -80.75643199999999, -80.806018, -80.790761, -80.869092, -80.83187099999999, -80.863698, -80.88036, -80.97043599999999, -81.217315, -81.37596099999999, -81.456143, -81.557547, -81.570247, -81.689483, -81.69239499999999, -81.755754, -81.745453, -81.81385499999999, -81.764253, -81.762659, -81.827354, -81.898541, -81.928, -81.89847, -81.93318599999999, -82.035963, -82.14316699999999, -82.14486699999999, -82.221566, -82.177267, -82.291271, -82.33033499999999, -82.578999, -82.696621, -82.844306, -82.88919299999999, -83.03070199999999, -83.142836, -83.245572, -83.29419299999999, -83.356445, -83.52095299999999, -83.626922, -83.65930399999999, -83.76509, -83.86653, -84.212904, -84.304698, -84.42573, -84.455342, -84.607928, -84.744149, -84.820157, -84.82015899999999, null, null], \"y\": [41.603361, 41.619628999999996, 41.624158, 41.585896, 41.603361, null, 41.496527, 41.502756999999995, 41.502579, 41.489405999999995, 41.496527, null, 41.678111, 41.67908, 41.678605, 41.676778999999996, 41.678111, null, 41.684774, 41.692001999999995, 41.695727, 41.670663999999995, 41.684774, null, 41.691806, 41.693487, 41.691826, 41.69081, 41.691806, null, 41.591103, 41.592121, 41.591635, 41.590399, 41.591103, null, 41.710823, 41.722809999999996, 41.720524, 41.708332999999996, 41.710823, null, 41.646474999999995, 41.657121, 41.664691999999995, 41.629331, 41.646474999999995, null, 41.682027999999995, 41.680406, 41.678829, 41.677115, 41.682027999999995, null, 41.645925, 41.646705999999995, 41.645126999999995, 41.644507, 41.645925, null, 41.737752, 41.742728, 41.741341, 41.736495999999995, 41.737752, null, 39.227225, 41.696118, 41.732647, 41.693008999999996, 41.706022, 41.514353, 41.529683999999996, 41.587587, 41.540675, 41.536648, 41.485721999999996, 41.512012999999996, 41.487494999999996, 41.463139999999996, 41.428751999999996, 41.454159, 41.419219999999996, 41.475339, 41.443988999999995, 41.455372, 41.381342, 41.515639, 41.48855, 41.763518999999995, 41.977523, 40.638801, 40.619935999999996, 40.582496, 40.475266, 40.390467, 40.317668999999995, 40.075672, 39.91393, 39.91713, 39.86728, 39.766363999999996, 39.705655, 39.691724, 39.620706, 39.590126999999995, 39.387589999999996, 39.341696999999996, 39.409273999999996, 39.338774, 39.267675, 39.266042999999996, 39.226442999999996, 39.180976, 39.098078, 39.079277999999995, 39.015279, 38.924121, 38.945898, 38.874582, 38.893491999999995, 38.929603, 38.987659, 39.025478, 38.898078999999996, 38.84048, 38.787186999999996, 38.603784, 38.578983, 38.444500000000005, 38.407782999999995, 38.542111999999996, 38.590862, 38.756076, 38.725719999999995, 38.625076, 38.627936, 38.596588, 38.654008999999995, 38.703044999999996, 38.679387, 38.628592, 38.652881, 38.760200000000005, 38.805707, 39.006454999999995, 39.053059, 39.12036, 39.073237999999996, 39.147458, 39.10548, 39.227225, null, null]}],\n",
              "                        {\"annotations\": [{\"showarrow\": false, \"text\": \"<b>Number of Transactions</b>\", \"x\": 1, \"xanchor\": \"right\", \"xref\": \"paper\", \"y\": 1.05, \"yref\": \"paper\"}], \"dragmode\": \"select\", \"height\": 450, \"hovermode\": \"closest\", \"legend\": {\"traceorder\": \"reversed\", \"x\": 1, \"xanchor\": \"right\", \"y\": 1, \"yanchor\": \"top\"}, \"margin\": {\"b\": 20, \"l\": 20, \"r\": 20, \"t\": 40}, \"title\": {\"text\": \"Total Opioid Transactions in Ohio\"}, \"width\": 900, \"xaxis\": {\"autorange\": false, \"fixedrange\": true, \"range\": [-87.13747624999999, -78.20167375], \"showgrid\": false, \"showticklabels\": false, \"zeroline\": false}, \"yaxis\": {\"autorange\": false, \"fixedrange\": true, \"range\": [38.403202, 41.977523], \"showgrid\": false, \"showticklabels\": false, \"zeroline\": false}},\n",
              "                        {\"responsive\": true}\n",
              "                    ).then(function(){\n",
              "                            \n",
              "var gd = document.getElementById('7a9f1786-2e1e-437d-9547-509e2a72e0ae');\n",
              "var x = new MutationObserver(function (mutations, observer) {{\n",
              "        var display = window.getComputedStyle(gd).display;\n",
              "        if (!display || display === 'none') {{\n",
              "            console.log([gd, 'removed!']);\n",
              "            Plotly.purge(gd);\n",
              "            observer.disconnect();\n",
              "        }}\n",
              "}});\n",
              "\n",
              "// Listen for the removal of the full notebook cells\n",
              "var notebookContainer = gd.closest('#notebook-container');\n",
              "if (notebookContainer) {{\n",
              "    x.observe(notebookContainer, {childList: true});\n",
              "}}\n",
              "\n",
              "// Listen for the clearing of the current output cell\n",
              "var outputEl = gd.closest('.output');\n",
              "if (outputEl) {{\n",
              "    x.observe(outputEl, {childList: true});\n",
              "}}\n",
              "\n",
              "                        })\n",
              "                };\n",
              "                \n",
              "            </script>\n",
              "        </div>\n",
              "</body>\n",
              "</html>"
            ]
          },
          "metadata": {
            "tags": []
          }
        }
      ]
    },
    {
      "cell_type": "markdown",
      "metadata": {
        "id": "RLRQZ79zpi5N",
        "colab_type": "text"
      },
      "source": [
        "We can also use the data we have from ARCOS to find out what type of prescription medication has been sold to what pharmacy, how much of it has been sold, and we can find out the total magnitude of how much medication has been sold by exploring how much total weight of what medication has been sold. Exploring types of prescriptions can provide more insight as to what medications have been most targeted to what county and perhaps we can also tell if a medication is more likely to be sold in a poor or wealthy county, or a more or less populated county."
      ]
    },
    {
      "cell_type": "markdown",
      "metadata": {
        "id": "gEZTjKdJqevp",
        "colab_type": "text"
      },
      "source": [
        "Below is another basic visualization created using the library Matplotlib showing the distribution of total transactions including each drug type in Ohio over all years the ARCOS database covers. This can be taken further by showing the total weight of each drug sold in each county. We can get a better understanding of just how many opioids have been purchased in each county by calculating how much of each medication is included in all transactions in a State or county, both by number of transactions and by total weight."
      ]
    },
    {
      "cell_type": "code",
      "metadata": {
        "id": "5ElmIR5eri5b",
        "colab_type": "code",
        "cellView": "form",
        "outputId": "d9516d92-e78b-4276-91e1-74571037e923",
        "colab": {
          "base_uri": "https://localhost:8080/",
          "height": 265
        }
      },
      "source": [
        "#@title \n",
        "drugDist = simpleOhio.groupby('DRUG_NAME')\n",
        "hydro = drugDist.count()['BUYER_NAME'][0]\n",
        "oxy = drugDist.count()['BUYER_NAME'][1]\n",
        "\n",
        "#Charts for total drug distribution Ohio\n",
        "labels = 'Hydrocodone','Oxycodone'\n",
        "sizes = hydro, oxy\n",
        "colors = ['lightblue', 'lightcoral']\n",
        "\n",
        "\n",
        "\n",
        "def make_autopct(sizes):\n",
        "    def my_autopct(pct):\n",
        "        total = sum(sizes)\n",
        "        val = int(round(pct*total/100.0))\n",
        "        return '{p:.2f}%  ({v:d})'.format(p=pct,v=val)\n",
        "    return my_autopct\n",
        "\n",
        "#Plot\n",
        "plt.pie(sizes, labels = labels, colors = colors, autopct=make_autopct(values))\n",
        "plt.axis('equal')\n",
        "plt.title(\"Drug Distribution by Total Transactions Ohio\")\n",
        "plt.show()"
      ],
      "execution_count": 0,
      "outputs": [
        {
          "output_type": "display_data",
          "data": {
            "image/png": "[encoded data removed]",
            "text/plain": [
              "<Figure size 432x288 with 1 Axes>"
            ]
          },
          "metadata": {
            "tags": []
          }
        }
      ]
    },
    {
      "cell_type": "markdown",
      "metadata": {
        "id": "8kzU0FhPv8DI",
        "colab_type": "text"
      },
      "source": [
        "From here, we can use machine learning to further explore the data. By clustering the data by county and combining the data from the United States Census site with the data from ARCOS, we can see where counties fall when comparing average age or average income of a county by total transactions in each county. We can cluster this county information to create groups based on transaction information. We can find what age groups have been targeted most by pharmaceutical companies and what drug is most likely to be sold to a county of what average income."
      ]
    },
    {
      "cell_type": "markdown",
      "metadata": {
        "id": "Z45UrQyPw1So",
        "colab_type": "text"
      },
      "source": [
        "We can also use machine learning to make predictions on whether a county is likely to have a high amount of opioid transactions based on transactiton and population data we have access to. We can make predictions based on a variety of quantitative values we have available to us from this set. Perhaps by using machine learning we can also tell what county is likely to sell a certain type of drug to a certain demographic. The datasets we are exploring and analyzing can give a much clearer picture of how severe the impact of the opioid epidemic has been, and where it has had the greatest effect on the country."
      ]
    }
  ]
}